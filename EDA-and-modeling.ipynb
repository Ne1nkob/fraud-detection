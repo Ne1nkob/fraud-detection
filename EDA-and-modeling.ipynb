{
 "cells": [
  {
   "cell_type": "code",
   "execution_count": 152,
   "metadata": {},
   "outputs": [],
   "source": [
    "import pandas as pd\n",
    "import numpy as np\n",
    "import matplotlib.pyplot as plt\n",
    "import seaborn as sns\n",
    "\n",
    "import warnings\n",
    "\n",
    "from sklearn.linear_model import LogisticRegression\n",
    "from sklearn.neighbors import KNeighborsClassifier\n",
    "from sklearn.ensemble import RandomForestClassifier\n",
    "from sklearn.model_selection import train_test_split, cross_val_score\n",
    "from sklearn.metrics import accuracy_score, precision_score, recall_score, confusion_matrix, f1_score, classification_report, precision_recall_curve\n",
    "from sklearn.pipeline import Pipeline\n",
    "from sklearn.compose import ColumnTransformer\n",
    "from sklearn.preprocessing import OneHotEncoder, FunctionTransformer\n",
    "from sklearn.impute import SimpleImputer\n",
    "from sklearn.preprocessing import FunctionTransformer\n",
    "from sklearn.preprocessing import StandardScaler\n",
    "from sklearn.model_selection import GridSearchCV, RandomizedSearchCV\n",
    "from sklearn.linear_model import SGDClassifier\n",
    "\n",
    "from imblearn.over_sampling import SMOTE\n",
    "\n",
    "SEED = 12"
   ]
  },
  {
   "cell_type": "markdown",
   "metadata": {},
   "source": [
    "The data frame will be created from the train data only and from there the split between training and testing data will be generated.\n",
    "The test csv files won't be used at all for this exercise."
   ]
  },
  {
   "cell_type": "code",
   "execution_count": 2,
   "metadata": {},
   "outputs": [],
   "source": [
    "# Create data frames\n",
    "client_train = pd.read_csv(f'data/client_train.csv', low_memory=False)\n",
    "invoice_train = pd.read_csv(f'data/invoice_train.csv', low_memory=False)"
   ]
  },
  {
   "cell_type": "markdown",
   "metadata": {},
   "source": [
    "# Data exploration"
   ]
  },
  {
   "cell_type": "markdown",
   "metadata": {},
   "source": [
    "#### client_train data frame"
   ]
  },
  {
   "cell_type": "markdown",
   "metadata": {},
   "source": [
    "The dataset does not contain nulls or repeated values. However, a few data types and headers need adjusment"
   ]
  },
  {
   "cell_type": "code",
   "execution_count": 3,
   "metadata": {},
   "outputs": [
    {
     "name": "stdout",
     "output_type": "stream",
     "text": [
      "the dataset contains 135493 rows and 6 columns\n"
     ]
    }
   ],
   "source": [
    "# Data frame shape\n",
    "print(f'the dataset contains {client_train.shape[0]} rows and {client_train.shape[1]} columns')"
   ]
  },
  {
   "cell_type": "code",
   "execution_count": 4,
   "metadata": {},
   "outputs": [
    {
     "data": {
      "text/html": [
       "<div>\n",
       "<style scoped>\n",
       "    .dataframe tbody tr th:only-of-type {\n",
       "        vertical-align: middle;\n",
       "    }\n",
       "\n",
       "    .dataframe tbody tr th {\n",
       "        vertical-align: top;\n",
       "    }\n",
       "\n",
       "    .dataframe thead th {\n",
       "        text-align: right;\n",
       "    }\n",
       "</style>\n",
       "<table border=\"1\" class=\"dataframe\">\n",
       "  <thead>\n",
       "    <tr style=\"text-align: right;\">\n",
       "      <th></th>\n",
       "      <th>disrict</th>\n",
       "      <th>client_id</th>\n",
       "      <th>client_catg</th>\n",
       "      <th>region</th>\n",
       "      <th>creation_date</th>\n",
       "      <th>target</th>\n",
       "    </tr>\n",
       "  </thead>\n",
       "  <tbody>\n",
       "    <tr>\n",
       "      <th>0</th>\n",
       "      <td>60</td>\n",
       "      <td>train_Client_0</td>\n",
       "      <td>11</td>\n",
       "      <td>101</td>\n",
       "      <td>31/12/1994</td>\n",
       "      <td>0.0</td>\n",
       "    </tr>\n",
       "    <tr>\n",
       "      <th>1</th>\n",
       "      <td>69</td>\n",
       "      <td>train_Client_1</td>\n",
       "      <td>11</td>\n",
       "      <td>107</td>\n",
       "      <td>29/05/2002</td>\n",
       "      <td>0.0</td>\n",
       "    </tr>\n",
       "    <tr>\n",
       "      <th>2</th>\n",
       "      <td>62</td>\n",
       "      <td>train_Client_10</td>\n",
       "      <td>11</td>\n",
       "      <td>301</td>\n",
       "      <td>13/03/1986</td>\n",
       "      <td>0.0</td>\n",
       "    </tr>\n",
       "    <tr>\n",
       "      <th>3</th>\n",
       "      <td>69</td>\n",
       "      <td>train_Client_100</td>\n",
       "      <td>11</td>\n",
       "      <td>105</td>\n",
       "      <td>11/07/1996</td>\n",
       "      <td>0.0</td>\n",
       "    </tr>\n",
       "    <tr>\n",
       "      <th>4</th>\n",
       "      <td>62</td>\n",
       "      <td>train_Client_1000</td>\n",
       "      <td>11</td>\n",
       "      <td>303</td>\n",
       "      <td>14/10/2014</td>\n",
       "      <td>0.0</td>\n",
       "    </tr>\n",
       "  </tbody>\n",
       "</table>\n",
       "</div>"
      ],
      "text/plain": [
       "   disrict          client_id  client_catg  region creation_date  target\n",
       "0       60     train_Client_0           11     101    31/12/1994     0.0\n",
       "1       69     train_Client_1           11     107    29/05/2002     0.0\n",
       "2       62    train_Client_10           11     301    13/03/1986     0.0\n",
       "3       69   train_Client_100           11     105    11/07/1996     0.0\n",
       "4       62  train_Client_1000           11     303    14/10/2014     0.0"
      ]
     },
     "execution_count": 4,
     "metadata": {},
     "output_type": "execute_result"
    }
   ],
   "source": [
    "# Print top rows of dataset\n",
    "client_train.head()"
   ]
  },
  {
   "cell_type": "code",
   "execution_count": 5,
   "metadata": {},
   "outputs": [
    {
     "data": {
      "text/plain": [
       "disrict          0\n",
       "client_id        0\n",
       "client_catg      0\n",
       "region           0\n",
       "creation_date    0\n",
       "target           0\n",
       "dtype: int64"
      ]
     },
     "execution_count": 5,
     "metadata": {},
     "output_type": "execute_result"
    }
   ],
   "source": [
    "# Check nulls\n",
    "client_train.isnull().sum()"
   ]
  },
  {
   "cell_type": "code",
   "execution_count": 6,
   "metadata": {},
   "outputs": [
    {
     "name": "stdout",
     "output_type": "stream",
     "text": [
      "The dataset contains 0 duplicates\n"
     ]
    }
   ],
   "source": [
    "# Check duplicates\n",
    "print(f'The dataset contains {client_train.duplicated().sum()} duplicates')"
   ]
  },
  {
   "cell_type": "code",
   "execution_count": 7,
   "metadata": {},
   "outputs": [
    {
     "data": {
      "text/html": [
       "<div>\n",
       "<style scoped>\n",
       "    .dataframe tbody tr th:only-of-type {\n",
       "        vertical-align: middle;\n",
       "    }\n",
       "\n",
       "    .dataframe tbody tr th {\n",
       "        vertical-align: top;\n",
       "    }\n",
       "\n",
       "    .dataframe thead th {\n",
       "        text-align: right;\n",
       "    }\n",
       "</style>\n",
       "<table border=\"1\" class=\"dataframe\">\n",
       "  <thead>\n",
       "    <tr style=\"text-align: right;\">\n",
       "      <th></th>\n",
       "      <th>disrict</th>\n",
       "      <th>client_catg</th>\n",
       "      <th>region</th>\n",
       "      <th>target</th>\n",
       "    </tr>\n",
       "  </thead>\n",
       "  <tbody>\n",
       "    <tr>\n",
       "      <th>count</th>\n",
       "      <td>135493.00</td>\n",
       "      <td>135493.00</td>\n",
       "      <td>135493.00</td>\n",
       "      <td>135493.00</td>\n",
       "    </tr>\n",
       "    <tr>\n",
       "      <th>mean</th>\n",
       "      <td>63.51</td>\n",
       "      <td>11.51</td>\n",
       "      <td>206.16</td>\n",
       "      <td>0.06</td>\n",
       "    </tr>\n",
       "    <tr>\n",
       "      <th>std</th>\n",
       "      <td>3.35</td>\n",
       "      <td>4.42</td>\n",
       "      <td>104.21</td>\n",
       "      <td>0.23</td>\n",
       "    </tr>\n",
       "    <tr>\n",
       "      <th>min</th>\n",
       "      <td>60.00</td>\n",
       "      <td>11.00</td>\n",
       "      <td>101.00</td>\n",
       "      <td>0.00</td>\n",
       "    </tr>\n",
       "    <tr>\n",
       "      <th>25%</th>\n",
       "      <td>62.00</td>\n",
       "      <td>11.00</td>\n",
       "      <td>103.00</td>\n",
       "      <td>0.00</td>\n",
       "    </tr>\n",
       "    <tr>\n",
       "      <th>50%</th>\n",
       "      <td>62.00</td>\n",
       "      <td>11.00</td>\n",
       "      <td>107.00</td>\n",
       "      <td>0.00</td>\n",
       "    </tr>\n",
       "    <tr>\n",
       "      <th>75%</th>\n",
       "      <td>69.00</td>\n",
       "      <td>11.00</td>\n",
       "      <td>307.00</td>\n",
       "      <td>0.00</td>\n",
       "    </tr>\n",
       "    <tr>\n",
       "      <th>max</th>\n",
       "      <td>69.00</td>\n",
       "      <td>51.00</td>\n",
       "      <td>399.00</td>\n",
       "      <td>1.00</td>\n",
       "    </tr>\n",
       "  </tbody>\n",
       "</table>\n",
       "</div>"
      ],
      "text/plain": [
       "         disrict  client_catg     region     target\n",
       "count  135493.00    135493.00  135493.00  135493.00\n",
       "mean       63.51        11.51     206.16       0.06\n",
       "std         3.35         4.42     104.21       0.23\n",
       "min        60.00        11.00     101.00       0.00\n",
       "25%        62.00        11.00     103.00       0.00\n",
       "50%        62.00        11.00     107.00       0.00\n",
       "75%        69.00        11.00     307.00       0.00\n",
       "max        69.00        51.00     399.00       1.00"
      ]
     },
     "execution_count": 7,
     "metadata": {},
     "output_type": "execute_result"
    }
   ],
   "source": [
    "# Get a summary for all numerical columns\n",
    "round(client_train.describe(),2)"
   ]
  },
  {
   "cell_type": "code",
   "execution_count": 8,
   "metadata": {},
   "outputs": [
    {
     "name": "stdout",
     "output_type": "stream",
     "text": [
      "<class 'pandas.core.frame.DataFrame'>\n",
      "RangeIndex: 135493 entries, 0 to 135492\n",
      "Data columns (total 6 columns):\n",
      " #   Column         Non-Null Count   Dtype  \n",
      "---  ------         --------------   -----  \n",
      " 0   disrict        135493 non-null  int64  \n",
      " 1   client_id      135493 non-null  object \n",
      " 2   client_catg    135493 non-null  int64  \n",
      " 3   region         135493 non-null  int64  \n",
      " 4   creation_date  135493 non-null  object \n",
      " 5   target         135493 non-null  float64\n",
      "dtypes: float64(1), int64(3), object(2)\n",
      "memory usage: 6.2+ MB\n"
     ]
    }
   ],
   "source": [
    "# Get concise information of each column in dataset\n",
    "client_train.info()"
   ]
  },
  {
   "cell_type": "code",
   "execution_count": 9,
   "metadata": {},
   "outputs": [
    {
     "name": "stdout",
     "output_type": "stream",
     "text": [
      "disrict - 4\n",
      "client_id - 135493\n",
      "client_catg - 3\n",
      "region - 25\n",
      "creation_date - 8088\n",
      "target - 2\n"
     ]
    }
   ],
   "source": [
    "# Get unique values \n",
    "for col in client_train.columns:\n",
    "    print(f\"{col} - {client_train[col].nunique()}\")"
   ]
  },
  {
   "cell_type": "markdown",
   "metadata": {},
   "source": [
    "## Data Types and Transforming Data"
   ]
  },
  {
   "cell_type": "code",
   "execution_count": 10,
   "metadata": {},
   "outputs": [
    {
     "data": {
      "text/plain": [
       "str"
      ]
     },
     "execution_count": 10,
     "metadata": {},
     "output_type": "execute_result"
    }
   ],
   "source": [
    "# type of first date entry\n",
    "type(client_train['creation_date'][0])"
   ]
  },
  {
   "cell_type": "code",
   "execution_count": 11,
   "metadata": {},
   "outputs": [],
   "source": [
    "# change \"creation_date\" dtype to datetime with format %d/%m/%Y\n",
    "client_train['creation_date'] = pd.to_datetime(client_train['creation_date'], format='%d/%m/%Y')"
   ]
  },
  {
   "cell_type": "code",
   "execution_count": 12,
   "metadata": {},
   "outputs": [
    {
     "data": {
      "text/plain": [
       "pandas._libs.tslibs.timestamps.Timestamp"
      ]
     },
     "execution_count": 12,
     "metadata": {},
     "output_type": "execute_result"
    }
   ],
   "source": [
    "# check \"creation_date\" dtype\n",
    "type(client_train['creation_date'][0])"
   ]
  },
  {
   "cell_type": "code",
   "execution_count": 13,
   "metadata": {},
   "outputs": [],
   "source": [
    "# Change the data type for disrict, client_catg, reion, and target\n",
    "client_train = client_train.astype({\n",
    "    'disrict' : 'category',\n",
    "    'client_catg' : 'category',\n",
    "    'region' : 'category', \n",
    "    'target': int })"
   ]
  },
  {
   "cell_type": "code",
   "execution_count": 14,
   "metadata": {},
   "outputs": [
    {
     "data": {
      "text/plain": [
       "disrict                category\n",
       "client_id                object\n",
       "client_catg            category\n",
       "region                 category\n",
       "creation_date    datetime64[ns]\n",
       "target                    int32\n",
       "dtype: object"
      ]
     },
     "execution_count": 14,
     "metadata": {},
     "output_type": "execute_result"
    }
   ],
   "source": [
    "# Check new data types\n",
    "client_train.dtypes"
   ]
  },
  {
   "cell_type": "markdown",
   "metadata": {},
   "source": [
    "#### invoice_train dataset"
   ]
  },
  {
   "cell_type": "markdown",
   "metadata": {},
   "source": [
    "The data does not contain nulls. However, there are duplicates and data types issues. It is especially concerning the mix data types in colum counter_number."
   ]
  },
  {
   "cell_type": "code",
   "execution_count": 15,
   "metadata": {},
   "outputs": [
    {
     "name": "stdout",
     "output_type": "stream",
     "text": [
      "the dataset contains 4476749 rows and 16 colums\n"
     ]
    }
   ],
   "source": [
    "# Data frame shape\n",
    "print(f'the dataset contains {invoice_train.shape[0]} rows and {invoice_train.shape[1]} colums')"
   ]
  },
  {
   "cell_type": "code",
   "execution_count": 16,
   "metadata": {},
   "outputs": [
    {
     "data": {
      "text/html": [
       "<div>\n",
       "<style scoped>\n",
       "    .dataframe tbody tr th:only-of-type {\n",
       "        vertical-align: middle;\n",
       "    }\n",
       "\n",
       "    .dataframe tbody tr th {\n",
       "        vertical-align: top;\n",
       "    }\n",
       "\n",
       "    .dataframe thead th {\n",
       "        text-align: right;\n",
       "    }\n",
       "</style>\n",
       "<table border=\"1\" class=\"dataframe\">\n",
       "  <thead>\n",
       "    <tr style=\"text-align: right;\">\n",
       "      <th></th>\n",
       "      <th>client_id</th>\n",
       "      <th>invoice_date</th>\n",
       "      <th>tarif_type</th>\n",
       "      <th>counter_number</th>\n",
       "      <th>counter_statue</th>\n",
       "      <th>counter_code</th>\n",
       "      <th>reading_remarque</th>\n",
       "      <th>counter_coefficient</th>\n",
       "      <th>consommation_level_1</th>\n",
       "      <th>consommation_level_2</th>\n",
       "      <th>consommation_level_3</th>\n",
       "      <th>consommation_level_4</th>\n",
       "      <th>old_index</th>\n",
       "      <th>new_index</th>\n",
       "      <th>months_number</th>\n",
       "      <th>counter_type</th>\n",
       "    </tr>\n",
       "  </thead>\n",
       "  <tbody>\n",
       "    <tr>\n",
       "      <th>0</th>\n",
       "      <td>train_Client_0</td>\n",
       "      <td>2014-03-24</td>\n",
       "      <td>11</td>\n",
       "      <td>1335667</td>\n",
       "      <td>0</td>\n",
       "      <td>203</td>\n",
       "      <td>8</td>\n",
       "      <td>1</td>\n",
       "      <td>82</td>\n",
       "      <td>0</td>\n",
       "      <td>0</td>\n",
       "      <td>0</td>\n",
       "      <td>14302</td>\n",
       "      <td>14384</td>\n",
       "      <td>4</td>\n",
       "      <td>ELEC</td>\n",
       "    </tr>\n",
       "    <tr>\n",
       "      <th>1</th>\n",
       "      <td>train_Client_0</td>\n",
       "      <td>2013-03-29</td>\n",
       "      <td>11</td>\n",
       "      <td>1335667</td>\n",
       "      <td>0</td>\n",
       "      <td>203</td>\n",
       "      <td>6</td>\n",
       "      <td>1</td>\n",
       "      <td>1200</td>\n",
       "      <td>184</td>\n",
       "      <td>0</td>\n",
       "      <td>0</td>\n",
       "      <td>12294</td>\n",
       "      <td>13678</td>\n",
       "      <td>4</td>\n",
       "      <td>ELEC</td>\n",
       "    </tr>\n",
       "    <tr>\n",
       "      <th>2</th>\n",
       "      <td>train_Client_0</td>\n",
       "      <td>2015-03-23</td>\n",
       "      <td>11</td>\n",
       "      <td>1335667</td>\n",
       "      <td>0</td>\n",
       "      <td>203</td>\n",
       "      <td>8</td>\n",
       "      <td>1</td>\n",
       "      <td>123</td>\n",
       "      <td>0</td>\n",
       "      <td>0</td>\n",
       "      <td>0</td>\n",
       "      <td>14624</td>\n",
       "      <td>14747</td>\n",
       "      <td>4</td>\n",
       "      <td>ELEC</td>\n",
       "    </tr>\n",
       "    <tr>\n",
       "      <th>3</th>\n",
       "      <td>train_Client_0</td>\n",
       "      <td>2015-07-13</td>\n",
       "      <td>11</td>\n",
       "      <td>1335667</td>\n",
       "      <td>0</td>\n",
       "      <td>207</td>\n",
       "      <td>8</td>\n",
       "      <td>1</td>\n",
       "      <td>102</td>\n",
       "      <td>0</td>\n",
       "      <td>0</td>\n",
       "      <td>0</td>\n",
       "      <td>14747</td>\n",
       "      <td>14849</td>\n",
       "      <td>4</td>\n",
       "      <td>ELEC</td>\n",
       "    </tr>\n",
       "    <tr>\n",
       "      <th>4</th>\n",
       "      <td>train_Client_0</td>\n",
       "      <td>2016-11-17</td>\n",
       "      <td>11</td>\n",
       "      <td>1335667</td>\n",
       "      <td>0</td>\n",
       "      <td>207</td>\n",
       "      <td>9</td>\n",
       "      <td>1</td>\n",
       "      <td>572</td>\n",
       "      <td>0</td>\n",
       "      <td>0</td>\n",
       "      <td>0</td>\n",
       "      <td>15066</td>\n",
       "      <td>15638</td>\n",
       "      <td>12</td>\n",
       "      <td>ELEC</td>\n",
       "    </tr>\n",
       "  </tbody>\n",
       "</table>\n",
       "</div>"
      ],
      "text/plain": [
       "        client_id invoice_date  tarif_type  counter_number counter_statue   \n",
       "0  train_Client_0   2014-03-24          11         1335667              0  \\\n",
       "1  train_Client_0   2013-03-29          11         1335667              0   \n",
       "2  train_Client_0   2015-03-23          11         1335667              0   \n",
       "3  train_Client_0   2015-07-13          11         1335667              0   \n",
       "4  train_Client_0   2016-11-17          11         1335667              0   \n",
       "\n",
       "   counter_code  reading_remarque  counter_coefficient  consommation_level_1   \n",
       "0           203                 8                    1                    82  \\\n",
       "1           203                 6                    1                  1200   \n",
       "2           203                 8                    1                   123   \n",
       "3           207                 8                    1                   102   \n",
       "4           207                 9                    1                   572   \n",
       "\n",
       "   consommation_level_2  consommation_level_3  consommation_level_4   \n",
       "0                     0                     0                     0  \\\n",
       "1                   184                     0                     0   \n",
       "2                     0                     0                     0   \n",
       "3                     0                     0                     0   \n",
       "4                     0                     0                     0   \n",
       "\n",
       "   old_index  new_index  months_number counter_type  \n",
       "0      14302      14384              4         ELEC  \n",
       "1      12294      13678              4         ELEC  \n",
       "2      14624      14747              4         ELEC  \n",
       "3      14747      14849              4         ELEC  \n",
       "4      15066      15638             12         ELEC  "
      ]
     },
     "execution_count": 16,
     "metadata": {},
     "output_type": "execute_result"
    }
   ],
   "source": [
    "# print top rows of dataset\n",
    "invoice_train.head(5)"
   ]
  },
  {
   "cell_type": "code",
   "execution_count": 17,
   "metadata": {},
   "outputs": [
    {
     "data": {
      "text/plain": [
       "client_id               0\n",
       "invoice_date            0\n",
       "tarif_type              0\n",
       "counter_number          0\n",
       "counter_statue          0\n",
       "counter_code            0\n",
       "reading_remarque        0\n",
       "counter_coefficient     0\n",
       "consommation_level_1    0\n",
       "consommation_level_2    0\n",
       "consommation_level_3    0\n",
       "consommation_level_4    0\n",
       "old_index               0\n",
       "new_index               0\n",
       "months_number           0\n",
       "counter_type            0\n",
       "dtype: int64"
      ]
     },
     "execution_count": 17,
     "metadata": {},
     "output_type": "execute_result"
    }
   ],
   "source": [
    "# Check nulls\n",
    "invoice_train.isnull().sum()"
   ]
  },
  {
   "cell_type": "code",
   "execution_count": 18,
   "metadata": {},
   "outputs": [
    {
     "name": "stdout",
     "output_type": "stream",
     "text": [
      "The dataset contains 11 duplicates\n"
     ]
    }
   ],
   "source": [
    "print(f'The dataset contains {invoice_train.duplicated().sum()} duplicates')"
   ]
  },
  {
   "cell_type": "code",
   "execution_count": 19,
   "metadata": {},
   "outputs": [
    {
     "data": {
      "text/html": [
       "<div>\n",
       "<style scoped>\n",
       "    .dataframe tbody tr th:only-of-type {\n",
       "        vertical-align: middle;\n",
       "    }\n",
       "\n",
       "    .dataframe tbody tr th {\n",
       "        vertical-align: top;\n",
       "    }\n",
       "\n",
       "    .dataframe thead th {\n",
       "        text-align: right;\n",
       "    }\n",
       "</style>\n",
       "<table border=\"1\" class=\"dataframe\">\n",
       "  <thead>\n",
       "    <tr style=\"text-align: right;\">\n",
       "      <th></th>\n",
       "      <th>tarif_type</th>\n",
       "      <th>counter_number</th>\n",
       "      <th>counter_code</th>\n",
       "      <th>reading_remarque</th>\n",
       "      <th>counter_coefficient</th>\n",
       "      <th>consommation_level_1</th>\n",
       "      <th>consommation_level_2</th>\n",
       "      <th>consommation_level_3</th>\n",
       "      <th>consommation_level_4</th>\n",
       "      <th>old_index</th>\n",
       "      <th>new_index</th>\n",
       "      <th>months_number</th>\n",
       "    </tr>\n",
       "  </thead>\n",
       "  <tbody>\n",
       "    <tr>\n",
       "      <th>count</th>\n",
       "      <td>4476749.00</td>\n",
       "      <td>4.476749e+06</td>\n",
       "      <td>4476749.00</td>\n",
       "      <td>4476749.00</td>\n",
       "      <td>4476749.00</td>\n",
       "      <td>4476749.00</td>\n",
       "      <td>4476749.00</td>\n",
       "      <td>4476749.00</td>\n",
       "      <td>4476749.00</td>\n",
       "      <td>4476749.00</td>\n",
       "      <td>4476749.00</td>\n",
       "      <td>4476749.00</td>\n",
       "    </tr>\n",
       "    <tr>\n",
       "      <th>mean</th>\n",
       "      <td>20.13</td>\n",
       "      <td>1.230587e+11</td>\n",
       "      <td>172.49</td>\n",
       "      <td>7.32</td>\n",
       "      <td>1.00</td>\n",
       "      <td>410.98</td>\n",
       "      <td>109.32</td>\n",
       "      <td>20.31</td>\n",
       "      <td>52.93</td>\n",
       "      <td>17767.00</td>\n",
       "      <td>18349.70</td>\n",
       "      <td>44.83</td>\n",
       "    </tr>\n",
       "    <tr>\n",
       "      <th>std</th>\n",
       "      <td>13.47</td>\n",
       "      <td>1.657267e+12</td>\n",
       "      <td>133.89</td>\n",
       "      <td>1.57</td>\n",
       "      <td>0.31</td>\n",
       "      <td>757.31</td>\n",
       "      <td>1220.12</td>\n",
       "      <td>157.42</td>\n",
       "      <td>875.47</td>\n",
       "      <td>40366.93</td>\n",
       "      <td>40953.21</td>\n",
       "      <td>3128.34</td>\n",
       "    </tr>\n",
       "    <tr>\n",
       "      <th>min</th>\n",
       "      <td>8.00</td>\n",
       "      <td>0.000000e+00</td>\n",
       "      <td>0.00</td>\n",
       "      <td>5.00</td>\n",
       "      <td>0.00</td>\n",
       "      <td>0.00</td>\n",
       "      <td>0.00</td>\n",
       "      <td>0.00</td>\n",
       "      <td>0.00</td>\n",
       "      <td>0.00</td>\n",
       "      <td>0.00</td>\n",
       "      <td>0.00</td>\n",
       "    </tr>\n",
       "    <tr>\n",
       "      <th>25%</th>\n",
       "      <td>11.00</td>\n",
       "      <td>1.211080e+05</td>\n",
       "      <td>5.00</td>\n",
       "      <td>6.00</td>\n",
       "      <td>1.00</td>\n",
       "      <td>79.00</td>\n",
       "      <td>0.00</td>\n",
       "      <td>0.00</td>\n",
       "      <td>0.00</td>\n",
       "      <td>1791.00</td>\n",
       "      <td>2056.00</td>\n",
       "      <td>4.00</td>\n",
       "    </tr>\n",
       "    <tr>\n",
       "      <th>50%</th>\n",
       "      <td>11.00</td>\n",
       "      <td>4.945610e+05</td>\n",
       "      <td>203.00</td>\n",
       "      <td>8.00</td>\n",
       "      <td>1.00</td>\n",
       "      <td>274.00</td>\n",
       "      <td>0.00</td>\n",
       "      <td>0.00</td>\n",
       "      <td>0.00</td>\n",
       "      <td>7690.00</td>\n",
       "      <td>8192.00</td>\n",
       "      <td>4.00</td>\n",
       "    </tr>\n",
       "    <tr>\n",
       "      <th>75%</th>\n",
       "      <td>40.00</td>\n",
       "      <td>1.115161e+06</td>\n",
       "      <td>207.00</td>\n",
       "      <td>9.00</td>\n",
       "      <td>1.00</td>\n",
       "      <td>600.00</td>\n",
       "      <td>0.00</td>\n",
       "      <td>0.00</td>\n",
       "      <td>0.00</td>\n",
       "      <td>21660.00</td>\n",
       "      <td>22343.00</td>\n",
       "      <td>4.00</td>\n",
       "    </tr>\n",
       "    <tr>\n",
       "      <th>max</th>\n",
       "      <td>45.00</td>\n",
       "      <td>2.798115e+13</td>\n",
       "      <td>600.00</td>\n",
       "      <td>413.00</td>\n",
       "      <td>50.00</td>\n",
       "      <td>999910.00</td>\n",
       "      <td>999073.00</td>\n",
       "      <td>64492.00</td>\n",
       "      <td>547946.00</td>\n",
       "      <td>2800280.00</td>\n",
       "      <td>2870972.00</td>\n",
       "      <td>636624.00</td>\n",
       "    </tr>\n",
       "  </tbody>\n",
       "</table>\n",
       "</div>"
      ],
      "text/plain": [
       "       tarif_type  counter_number  counter_code  reading_remarque   \n",
       "count  4476749.00    4.476749e+06    4476749.00        4476749.00  \\\n",
       "mean        20.13    1.230587e+11        172.49              7.32   \n",
       "std         13.47    1.657267e+12        133.89              1.57   \n",
       "min          8.00    0.000000e+00          0.00              5.00   \n",
       "25%         11.00    1.211080e+05          5.00              6.00   \n",
       "50%         11.00    4.945610e+05        203.00              8.00   \n",
       "75%         40.00    1.115161e+06        207.00              9.00   \n",
       "max         45.00    2.798115e+13        600.00            413.00   \n",
       "\n",
       "       counter_coefficient  consommation_level_1  consommation_level_2   \n",
       "count           4476749.00            4476749.00            4476749.00  \\\n",
       "mean                  1.00                410.98                109.32   \n",
       "std                   0.31                757.31               1220.12   \n",
       "min                   0.00                  0.00                  0.00   \n",
       "25%                   1.00                 79.00                  0.00   \n",
       "50%                   1.00                274.00                  0.00   \n",
       "75%                   1.00                600.00                  0.00   \n",
       "max                  50.00             999910.00             999073.00   \n",
       "\n",
       "       consommation_level_3  consommation_level_4   old_index   new_index   \n",
       "count            4476749.00            4476749.00  4476749.00  4476749.00  \\\n",
       "mean                  20.31                 52.93    17767.00    18349.70   \n",
       "std                  157.42                875.47    40366.93    40953.21   \n",
       "min                    0.00                  0.00        0.00        0.00   \n",
       "25%                    0.00                  0.00     1791.00     2056.00   \n",
       "50%                    0.00                  0.00     7690.00     8192.00   \n",
       "75%                    0.00                  0.00    21660.00    22343.00   \n",
       "max                64492.00             547946.00  2800280.00  2870972.00   \n",
       "\n",
       "       months_number  \n",
       "count     4476749.00  \n",
       "mean           44.83  \n",
       "std          3128.34  \n",
       "min             0.00  \n",
       "25%             4.00  \n",
       "50%             4.00  \n",
       "75%             4.00  \n",
       "max        636624.00  "
      ]
     },
     "execution_count": 19,
     "metadata": {},
     "output_type": "execute_result"
    }
   ],
   "source": [
    "# Get a summary for all numerical columns\n",
    "round(invoice_train.describe(),2)"
   ]
  },
  {
   "cell_type": "code",
   "execution_count": 20,
   "metadata": {},
   "outputs": [
    {
     "name": "stdout",
     "output_type": "stream",
     "text": [
      "<class 'pandas.core.frame.DataFrame'>\n",
      "RangeIndex: 4476749 entries, 0 to 4476748\n",
      "Data columns (total 16 columns):\n",
      " #   Column                Dtype \n",
      "---  ------                ----- \n",
      " 0   client_id             object\n",
      " 1   invoice_date          object\n",
      " 2   tarif_type            int64 \n",
      " 3   counter_number        int64 \n",
      " 4   counter_statue        object\n",
      " 5   counter_code          int64 \n",
      " 6   reading_remarque      int64 \n",
      " 7   counter_coefficient   int64 \n",
      " 8   consommation_level_1  int64 \n",
      " 9   consommation_level_2  int64 \n",
      " 10  consommation_level_3  int64 \n",
      " 11  consommation_level_4  int64 \n",
      " 12  old_index             int64 \n",
      " 13  new_index             int64 \n",
      " 14  months_number         int64 \n",
      " 15  counter_type          object\n",
      "dtypes: int64(12), object(4)\n",
      "memory usage: 546.5+ MB\n"
     ]
    }
   ],
   "source": [
    "# Get concise information of each column in dataset\n",
    "invoice_train.info()"
   ]
  },
  {
   "cell_type": "code",
   "execution_count": 21,
   "metadata": {},
   "outputs": [
    {
     "name": "stdout",
     "output_type": "stream",
     "text": [
      "client_id - 135493\n",
      "invoice_date - 8275\n",
      "tarif_type - 17\n",
      "counter_number - 201893\n",
      "counter_statue - 12\n",
      "counter_code - 42\n",
      "reading_remarque - 8\n",
      "counter_coefficient - 16\n",
      "consommation_level_1 - 8295\n",
      "consommation_level_2 - 12576\n",
      "consommation_level_3 - 2253\n",
      "consommation_level_4 - 12075\n",
      "old_index - 155648\n",
      "new_index - 157980\n",
      "months_number - 1370\n",
      "counter_type - 2\n"
     ]
    }
   ],
   "source": [
    "# Get unique values\n",
    "for col in invoice_train.columns:\n",
    "    print(f\"{col} - {invoice_train[col].nunique()}\")"
   ]
  },
  {
   "cell_type": "markdown",
   "metadata": {},
   "source": [
    "### Let's tackle the duplicated values"
   ]
  },
  {
   "cell_type": "markdown",
   "metadata": {},
   "source": [
    "Previously, we found out that our invoice_train contains 11 duplicates so let's get rid of them"
   ]
  },
  {
   "cell_type": "code",
   "execution_count": 22,
   "metadata": {},
   "outputs": [
    {
     "name": "stdout",
     "output_type": "stream",
     "text": [
      "The dataset contains 0 duplicates\n"
     ]
    }
   ],
   "source": [
    "# Drop duplicates\n",
    "invoice_train = invoice_train.drop_duplicates()\n",
    "# Check if duplicates have been properly dropped\n",
    "print(f'The dataset contains {invoice_train.duplicated().sum()} duplicates')"
   ]
  },
  {
   "cell_type": "markdown",
   "metadata": {},
   "source": [
    "#### Data types adjustemts"
   ]
  },
  {
   "cell_type": "code",
   "execution_count": 23,
   "metadata": {},
   "outputs": [],
   "source": [
    "# Adjust data types for the selected colums\n",
    "invoice_train = invoice_train.astype({\n",
    "    'invoice_date': 'datetime64[ns]', \n",
    "    'tarif_type': 'category', \n",
    "    'counter_statue': 'category',\n",
    "    'counter_coefficient': float, \n",
    "    'consommation_level_1': float, \n",
    "    'consommation_level_2': float,\n",
    "    'consommation_level_3': float, \n",
    "    'consommation_level_4': float, \n",
    "    'old_index': float,\n",
    "    'new_index': float, \n",
    "    'counter_type': 'category'})"
   ]
  },
  {
   "cell_type": "code",
   "execution_count": 24,
   "metadata": {},
   "outputs": [
    {
     "data": {
      "text/plain": [
       "client_id                       object\n",
       "invoice_date            datetime64[ns]\n",
       "tarif_type                    category\n",
       "counter_number                   int64\n",
       "counter_statue                category\n",
       "counter_code                     int64\n",
       "reading_remarque                 int64\n",
       "counter_coefficient            float64\n",
       "consommation_level_1           float64\n",
       "consommation_level_2           float64\n",
       "consommation_level_3           float64\n",
       "consommation_level_4           float64\n",
       "old_index                      float64\n",
       "new_index                      float64\n",
       "months_number                    int64\n",
       "counter_type                  category\n",
       "dtype: object"
      ]
     },
     "execution_count": 24,
     "metadata": {},
     "output_type": "execute_result"
    }
   ],
   "source": [
    "# Check if the data types have been properly adjusted\n",
    "invoice_train.dtypes"
   ]
  },
  {
   "cell_type": "markdown",
   "metadata": {},
   "source": [
    "#### Handling mixed data types in column counter_statue"
   ]
  },
  {
   "cell_type": "code",
   "execution_count": 25,
   "metadata": {},
   "outputs": [
    {
     "data": {
      "image/png": "[encoded data removed]",
      "text/plain": [
       "<Figure size 1400x700 with 1 Axes>"
      ]
     },
     "metadata": {},
     "output_type": "display_data"
    }
   ],
   "source": [
    "# Create plot\n",
    "fig, ax = plt.subplots(figsize=(14, 7))  # ✅ correct argument name\n",
    "ax = sns.countplot(x=invoice_train['counter_statue'], ax=ax)\n",
    "\n",
    "# Add labels to each bar\n",
    "for container in ax.containers:\n",
    "    ax.bar_label(container)\n",
    "\n",
    "# Display plot\n",
    "plt.show();"
   ]
  },
  {
   "cell_type": "markdown",
   "metadata": {},
   "source": [
    "These columns should only contain values between 0 and 5 based on the information provided by the source. \n",
    "Therefore, values greater than 5 will be dropped due to the low number of entries affected (47 entries, 0.00001% of the total entries)"
   ]
  },
  {
   "cell_type": "code",
   "execution_count": 26,
   "metadata": {},
   "outputs": [],
   "source": [
    "# list of values to drop\n",
    "values_to_drop = ['269375', '420', '46', '618', '769', 'A']\n",
    "# Drop values\n",
    "invoice_train = invoice_train[~invoice_train['counter_statue'].isin(values_to_drop)]"
   ]
  },
  {
   "cell_type": "markdown",
   "metadata": {},
   "source": [
    "Now the counter_statue column contains only 6 values from 0 to 5."
   ]
  },
  {
   "cell_type": "code",
   "execution_count": 27,
   "metadata": {},
   "outputs": [
    {
     "name": "stdout",
     "output_type": "stream",
     "text": [
      "client_id - 135491\n",
      "invoice_date - 8275\n",
      "tarif_type - 17\n",
      "counter_number - 201892\n",
      "counter_statue - 6\n",
      "counter_code - 40\n",
      "reading_remarque - 4\n",
      "counter_coefficient - 13\n",
      "consommation_level_1 - 8295\n",
      "consommation_level_2 - 12576\n",
      "consommation_level_3 - 2253\n",
      "consommation_level_4 - 12075\n",
      "old_index - 155648\n",
      "new_index - 157980\n",
      "months_number - 1351\n",
      "counter_type - 2\n"
     ]
    }
   ],
   "source": [
    "# Get unique values on the invoice train data\n",
    "for col in invoice_train.columns:\n",
    "    print(f\"{col} - {invoice_train[col].nunique()}\")\n"
   ]
  },
  {
   "cell_type": "markdown",
   "metadata": {},
   "source": [
    "### Preparing the invoice_train file for a proper merge with the client_train file"
   ]
  },
  {
   "cell_type": "markdown",
   "metadata": {},
   "source": [
    "First, we have got the average comsuption per level x."
   ]
  },
  {
   "cell_type": "code",
   "execution_count": 28,
   "metadata": {},
   "outputs": [],
   "source": [
    "# Calculate mean values of consumption levels per client_id\n",
    "def aggregate_by_client_id(invoice_data):\n",
    "    aggs = {}\n",
    "    aggs['consommation_level_1'] = ['mean']\n",
    "    aggs['consommation_level_2'] = ['mean']\n",
    "    aggs['consommation_level_3'] = ['mean']\n",
    "    aggs['consommation_level_4'] = ['mean']\n",
    "\n",
    "    agg_trans = invoice_data.groupby(['client_id']).agg(aggs)\n",
    "    agg_trans.columns = ['_'.join(col).strip() for col in agg_trans.columns.values]\n",
    "    agg_trans.reset_index(inplace=True)\n",
    "\n",
    "    df = (invoice_data.groupby('client_id')\n",
    "            .size()\n",
    "            .reset_index(name='{}transactions_count'.format('1')))\n",
    "    return pd.merge(df, agg_trans, on='client_id', how='left')"
   ]
  },
  {
   "cell_type": "code",
   "execution_count": 29,
   "metadata": {},
   "outputs": [],
   "source": [
    "# Group invoice data by client_id\n",
    "agg_train = aggregate_by_client_id(invoice_train)"
   ]
  },
  {
   "cell_type": "code",
   "execution_count": 30,
   "metadata": {},
   "outputs": [
    {
     "name": "stdout",
     "output_type": "stream",
     "text": [
      "(135491, 6)\n"
     ]
    },
    {
     "data": {
      "text/html": [
       "<div>\n",
       "<style scoped>\n",
       "    .dataframe tbody tr th:only-of-type {\n",
       "        vertical-align: middle;\n",
       "    }\n",
       "\n",
       "    .dataframe tbody tr th {\n",
       "        vertical-align: top;\n",
       "    }\n",
       "\n",
       "    .dataframe thead th {\n",
       "        text-align: right;\n",
       "    }\n",
       "</style>\n",
       "<table border=\"1\" class=\"dataframe\">\n",
       "  <thead>\n",
       "    <tr style=\"text-align: right;\">\n",
       "      <th></th>\n",
       "      <th>client_id</th>\n",
       "      <th>1transactions_count</th>\n",
       "      <th>consommation_level_1_mean</th>\n",
       "      <th>consommation_level_2_mean</th>\n",
       "      <th>consommation_level_3_mean</th>\n",
       "      <th>consommation_level_4_mean</th>\n",
       "    </tr>\n",
       "  </thead>\n",
       "  <tbody>\n",
       "    <tr>\n",
       "      <th>0</th>\n",
       "      <td>train_Client_0</td>\n",
       "      <td>35</td>\n",
       "      <td>352.400000</td>\n",
       "      <td>10.571429</td>\n",
       "      <td>0.000000</td>\n",
       "      <td>0.000000</td>\n",
       "    </tr>\n",
       "    <tr>\n",
       "      <th>1</th>\n",
       "      <td>train_Client_1</td>\n",
       "      <td>37</td>\n",
       "      <td>557.540541</td>\n",
       "      <td>0.000000</td>\n",
       "      <td>0.000000</td>\n",
       "      <td>0.000000</td>\n",
       "    </tr>\n",
       "    <tr>\n",
       "      <th>2</th>\n",
       "      <td>train_Client_10</td>\n",
       "      <td>18</td>\n",
       "      <td>798.611111</td>\n",
       "      <td>37.888889</td>\n",
       "      <td>0.000000</td>\n",
       "      <td>0.000000</td>\n",
       "    </tr>\n",
       "    <tr>\n",
       "      <th>3</th>\n",
       "      <td>train_Client_100</td>\n",
       "      <td>20</td>\n",
       "      <td>1.200000</td>\n",
       "      <td>0.000000</td>\n",
       "      <td>0.000000</td>\n",
       "      <td>0.000000</td>\n",
       "    </tr>\n",
       "    <tr>\n",
       "      <th>4</th>\n",
       "      <td>train_Client_1000</td>\n",
       "      <td>14</td>\n",
       "      <td>663.714286</td>\n",
       "      <td>104.857143</td>\n",
       "      <td>117.357143</td>\n",
       "      <td>36.714286</td>\n",
       "    </tr>\n",
       "  </tbody>\n",
       "</table>\n",
       "</div>"
      ],
      "text/plain": [
       "           client_id  1transactions_count  consommation_level_1_mean   \n",
       "0     train_Client_0                   35                 352.400000  \\\n",
       "1     train_Client_1                   37                 557.540541   \n",
       "2    train_Client_10                   18                 798.611111   \n",
       "3   train_Client_100                   20                   1.200000   \n",
       "4  train_Client_1000                   14                 663.714286   \n",
       "\n",
       "   consommation_level_2_mean  consommation_level_3_mean   \n",
       "0                  10.571429                   0.000000  \\\n",
       "1                   0.000000                   0.000000   \n",
       "2                  37.888889                   0.000000   \n",
       "3                   0.000000                   0.000000   \n",
       "4                 104.857143                 117.357143   \n",
       "\n",
       "   consommation_level_4_mean  \n",
       "0                   0.000000  \n",
       "1                   0.000000  \n",
       "2                   0.000000  \n",
       "3                   0.000000  \n",
       "4                  36.714286  "
      ]
     },
     "execution_count": 30,
     "metadata": {},
     "output_type": "execute_result"
    }
   ],
   "source": [
    "# Display overview of the new aggregated data frame\n",
    "print(agg_train.shape)\n",
    "agg_train.head()"
   ]
  },
  {
   "cell_type": "markdown",
   "metadata": {},
   "source": [
    "Now, some relevant columns are added to the new data frame 'agg_train'"
   ]
  },
  {
   "cell_type": "code",
   "execution_count": 31,
   "metadata": {},
   "outputs": [
    {
     "data": {
      "text/html": [
       "<div>\n",
       "<style scoped>\n",
       "    .dataframe tbody tr th:only-of-type {\n",
       "        vertical-align: middle;\n",
       "    }\n",
       "\n",
       "    .dataframe tbody tr th {\n",
       "        vertical-align: top;\n",
       "    }\n",
       "\n",
       "    .dataframe thead th {\n",
       "        text-align: right;\n",
       "    }\n",
       "</style>\n",
       "<table border=\"1\" class=\"dataframe\">\n",
       "  <thead>\n",
       "    <tr style=\"text-align: right;\">\n",
       "      <th></th>\n",
       "      <th>client_id</th>\n",
       "      <th>1transactions_count</th>\n",
       "      <th>consommation_level_1_mean</th>\n",
       "      <th>consommation_level_2_mean</th>\n",
       "      <th>consommation_level_3_mean</th>\n",
       "      <th>consommation_level_4_mean</th>\n",
       "      <th>tarif_type</th>\n",
       "      <th>counter_statue</th>\n",
       "      <th>counter_type</th>\n",
       "    </tr>\n",
       "  </thead>\n",
       "  <tbody>\n",
       "    <tr>\n",
       "      <th>0</th>\n",
       "      <td>train_Client_0</td>\n",
       "      <td>35</td>\n",
       "      <td>352.400000</td>\n",
       "      <td>10.571429</td>\n",
       "      <td>0.000000</td>\n",
       "      <td>0.000000</td>\n",
       "      <td>11</td>\n",
       "      <td>0</td>\n",
       "      <td>ELEC</td>\n",
       "    </tr>\n",
       "    <tr>\n",
       "      <th>1</th>\n",
       "      <td>train_Client_1</td>\n",
       "      <td>37</td>\n",
       "      <td>557.540541</td>\n",
       "      <td>0.000000</td>\n",
       "      <td>0.000000</td>\n",
       "      <td>0.000000</td>\n",
       "      <td>11</td>\n",
       "      <td>0</td>\n",
       "      <td>ELEC</td>\n",
       "    </tr>\n",
       "    <tr>\n",
       "      <th>2</th>\n",
       "      <td>train_Client_10</td>\n",
       "      <td>18</td>\n",
       "      <td>798.611111</td>\n",
       "      <td>37.888889</td>\n",
       "      <td>0.000000</td>\n",
       "      <td>0.000000</td>\n",
       "      <td>11</td>\n",
       "      <td>0</td>\n",
       "      <td>ELEC</td>\n",
       "    </tr>\n",
       "    <tr>\n",
       "      <th>3</th>\n",
       "      <td>train_Client_100</td>\n",
       "      <td>20</td>\n",
       "      <td>1.200000</td>\n",
       "      <td>0.000000</td>\n",
       "      <td>0.000000</td>\n",
       "      <td>0.000000</td>\n",
       "      <td>11</td>\n",
       "      <td>0</td>\n",
       "      <td>ELEC</td>\n",
       "    </tr>\n",
       "    <tr>\n",
       "      <th>4</th>\n",
       "      <td>train_Client_1000</td>\n",
       "      <td>14</td>\n",
       "      <td>663.714286</td>\n",
       "      <td>104.857143</td>\n",
       "      <td>117.357143</td>\n",
       "      <td>36.714286</td>\n",
       "      <td>11</td>\n",
       "      <td>0</td>\n",
       "      <td>ELEC</td>\n",
       "    </tr>\n",
       "  </tbody>\n",
       "</table>\n",
       "</div>"
      ],
      "text/plain": [
       "           client_id  1transactions_count  consommation_level_1_mean   \n",
       "0     train_Client_0                   35                 352.400000  \\\n",
       "1     train_Client_1                   37                 557.540541   \n",
       "2    train_Client_10                   18                 798.611111   \n",
       "3   train_Client_100                   20                   1.200000   \n",
       "4  train_Client_1000                   14                 663.714286   \n",
       "\n",
       "   consommation_level_2_mean  consommation_level_3_mean   \n",
       "0                  10.571429                   0.000000  \\\n",
       "1                   0.000000                   0.000000   \n",
       "2                  37.888889                   0.000000   \n",
       "3                   0.000000                   0.000000   \n",
       "4                 104.857143                 117.357143   \n",
       "\n",
       "   consommation_level_4_mean tarif_type counter_statue counter_type  \n",
       "0                   0.000000         11              0         ELEC  \n",
       "1                   0.000000         11              0         ELEC  \n",
       "2                   0.000000         11              0         ELEC  \n",
       "3                   0.000000         11              0         ELEC  \n",
       "4                  36.714286         11              0         ELEC  "
      ]
     },
     "execution_count": 31,
     "metadata": {},
     "output_type": "execute_result"
    }
   ],
   "source": [
    "# Define the columns that will be added\n",
    "extra_col = ['client_id', 'tarif_type', 'counter_statue', 'counter_type']\n",
    "invoice_subset = invoice_train[extra_col]\n",
    "\n",
    "# Drop duplicates\n",
    "invoice_unique = invoice_subset.drop_duplicates(subset='client_id')\n",
    "\n",
    "# Merge ['tarif_type', 'counter_statue', 'counter_type'] to the main dataset\n",
    "agg_train_extra_cols = pd.merge(agg_train, invoice_unique, on='client_id', how='left')\n",
    "\n",
    "# Display extended data frame\n",
    "agg_train_extra_cols.head(5)"
   ]
  },
  {
   "cell_type": "code",
   "execution_count": 32,
   "metadata": {},
   "outputs": [
    {
     "data": {
      "text/plain": [
       "(135491, 9)"
      ]
     },
     "execution_count": 32,
     "metadata": {},
     "output_type": "execute_result"
    }
   ],
   "source": [
    "# Display the new shape\n",
    "agg_train_extra_cols.shape"
   ]
  },
  {
   "cell_type": "markdown",
   "metadata": {},
   "source": [
    "Now we proceed with the merging of the newly created data frame (agg_train_extra_cols) with the client_train dataset"
   ]
  },
  {
   "cell_type": "code",
   "execution_count": 33,
   "metadata": {},
   "outputs": [],
   "source": [
    "# Merge aggregate data with client dataset\n",
    "train = pd.merge(client_train,agg_train_extra_cols, on='client_id', how='left')"
   ]
  },
  {
   "cell_type": "code",
   "execution_count": 34,
   "metadata": {},
   "outputs": [
    {
     "data": {
      "text/html": [
       "<div>\n",
       "<style scoped>\n",
       "    .dataframe tbody tr th:only-of-type {\n",
       "        vertical-align: middle;\n",
       "    }\n",
       "\n",
       "    .dataframe tbody tr th {\n",
       "        vertical-align: top;\n",
       "    }\n",
       "\n",
       "    .dataframe thead th {\n",
       "        text-align: right;\n",
       "    }\n",
       "</style>\n",
       "<table border=\"1\" class=\"dataframe\">\n",
       "  <thead>\n",
       "    <tr style=\"text-align: right;\">\n",
       "      <th></th>\n",
       "      <th>disrict</th>\n",
       "      <th>client_id</th>\n",
       "      <th>client_catg</th>\n",
       "      <th>region</th>\n",
       "      <th>creation_date</th>\n",
       "      <th>target</th>\n",
       "      <th>1transactions_count</th>\n",
       "      <th>consommation_level_1_mean</th>\n",
       "      <th>consommation_level_2_mean</th>\n",
       "      <th>consommation_level_3_mean</th>\n",
       "      <th>consommation_level_4_mean</th>\n",
       "      <th>tarif_type</th>\n",
       "      <th>counter_statue</th>\n",
       "      <th>counter_type</th>\n",
       "    </tr>\n",
       "  </thead>\n",
       "  <tbody>\n",
       "    <tr>\n",
       "      <th>0</th>\n",
       "      <td>60</td>\n",
       "      <td>train_Client_0</td>\n",
       "      <td>11</td>\n",
       "      <td>101</td>\n",
       "      <td>1994-12-31</td>\n",
       "      <td>0</td>\n",
       "      <td>35.0</td>\n",
       "      <td>352.400000</td>\n",
       "      <td>10.571429</td>\n",
       "      <td>0.000000</td>\n",
       "      <td>0.000000</td>\n",
       "      <td>11</td>\n",
       "      <td>0</td>\n",
       "      <td>ELEC</td>\n",
       "    </tr>\n",
       "    <tr>\n",
       "      <th>1</th>\n",
       "      <td>69</td>\n",
       "      <td>train_Client_1</td>\n",
       "      <td>11</td>\n",
       "      <td>107</td>\n",
       "      <td>2002-05-29</td>\n",
       "      <td>0</td>\n",
       "      <td>37.0</td>\n",
       "      <td>557.540541</td>\n",
       "      <td>0.000000</td>\n",
       "      <td>0.000000</td>\n",
       "      <td>0.000000</td>\n",
       "      <td>11</td>\n",
       "      <td>0</td>\n",
       "      <td>ELEC</td>\n",
       "    </tr>\n",
       "    <tr>\n",
       "      <th>2</th>\n",
       "      <td>62</td>\n",
       "      <td>train_Client_10</td>\n",
       "      <td>11</td>\n",
       "      <td>301</td>\n",
       "      <td>1986-03-13</td>\n",
       "      <td>0</td>\n",
       "      <td>18.0</td>\n",
       "      <td>798.611111</td>\n",
       "      <td>37.888889</td>\n",
       "      <td>0.000000</td>\n",
       "      <td>0.000000</td>\n",
       "      <td>11</td>\n",
       "      <td>0</td>\n",
       "      <td>ELEC</td>\n",
       "    </tr>\n",
       "    <tr>\n",
       "      <th>3</th>\n",
       "      <td>69</td>\n",
       "      <td>train_Client_100</td>\n",
       "      <td>11</td>\n",
       "      <td>105</td>\n",
       "      <td>1996-07-11</td>\n",
       "      <td>0</td>\n",
       "      <td>20.0</td>\n",
       "      <td>1.200000</td>\n",
       "      <td>0.000000</td>\n",
       "      <td>0.000000</td>\n",
       "      <td>0.000000</td>\n",
       "      <td>11</td>\n",
       "      <td>0</td>\n",
       "      <td>ELEC</td>\n",
       "    </tr>\n",
       "    <tr>\n",
       "      <th>4</th>\n",
       "      <td>62</td>\n",
       "      <td>train_Client_1000</td>\n",
       "      <td>11</td>\n",
       "      <td>303</td>\n",
       "      <td>2014-10-14</td>\n",
       "      <td>0</td>\n",
       "      <td>14.0</td>\n",
       "      <td>663.714286</td>\n",
       "      <td>104.857143</td>\n",
       "      <td>117.357143</td>\n",
       "      <td>36.714286</td>\n",
       "      <td>11</td>\n",
       "      <td>0</td>\n",
       "      <td>ELEC</td>\n",
       "    </tr>\n",
       "  </tbody>\n",
       "</table>\n",
       "</div>"
      ],
      "text/plain": [
       "  disrict          client_id client_catg region creation_date  target   \n",
       "0      60     train_Client_0          11    101    1994-12-31       0  \\\n",
       "1      69     train_Client_1          11    107    2002-05-29       0   \n",
       "2      62    train_Client_10          11    301    1986-03-13       0   \n",
       "3      69   train_Client_100          11    105    1996-07-11       0   \n",
       "4      62  train_Client_1000          11    303    2014-10-14       0   \n",
       "\n",
       "   1transactions_count  consommation_level_1_mean  consommation_level_2_mean   \n",
       "0                 35.0                 352.400000                  10.571429  \\\n",
       "1                 37.0                 557.540541                   0.000000   \n",
       "2                 18.0                 798.611111                  37.888889   \n",
       "3                 20.0                   1.200000                   0.000000   \n",
       "4                 14.0                 663.714286                 104.857143   \n",
       "\n",
       "   consommation_level_3_mean  consommation_level_4_mean tarif_type   \n",
       "0                   0.000000                   0.000000         11  \\\n",
       "1                   0.000000                   0.000000         11   \n",
       "2                   0.000000                   0.000000         11   \n",
       "3                   0.000000                   0.000000         11   \n",
       "4                 117.357143                  36.714286         11   \n",
       "\n",
       "  counter_statue counter_type  \n",
       "0              0         ELEC  \n",
       "1              0         ELEC  \n",
       "2              0         ELEC  \n",
       "3              0         ELEC  \n",
       "4              0         ELEC  "
      ]
     },
     "execution_count": 34,
     "metadata": {},
     "output_type": "execute_result"
    }
   ],
   "source": [
    "train.head(5)"
   ]
  },
  {
   "cell_type": "markdown",
   "metadata": {},
   "source": [
    "### Quick EDA for the final data frame\n",
    "\n",
    "* It contains 2 null values that have been dropped\n",
    "* There are no duplicates\n",
    "* Header disrict replaced by district\n",
    "* Data types are correct\n",
    "* Client_id has not been modified as it will no be part of the features"
   ]
  },
  {
   "cell_type": "code",
   "execution_count": 35,
   "metadata": {},
   "outputs": [
    {
     "data": {
      "text/plain": [
       "(135493, 14)"
      ]
     },
     "execution_count": 35,
     "metadata": {},
     "output_type": "execute_result"
    }
   ],
   "source": [
    "# Check data frame shape\n",
    "train.shape"
   ]
  },
  {
   "cell_type": "code",
   "execution_count": 36,
   "metadata": {},
   "outputs": [
    {
     "data": {
      "text/plain": [
       "disrict                      0\n",
       "client_id                    0\n",
       "client_catg                  0\n",
       "region                       0\n",
       "creation_date                0\n",
       "target                       0\n",
       "1transactions_count          2\n",
       "consommation_level_1_mean    2\n",
       "consommation_level_2_mean    2\n",
       "consommation_level_3_mean    2\n",
       "consommation_level_4_mean    2\n",
       "tarif_type                   2\n",
       "counter_statue               2\n",
       "counter_type                 2\n",
       "dtype: int64"
      ]
     },
     "execution_count": 36,
     "metadata": {},
     "output_type": "execute_result"
    }
   ],
   "source": [
    "# Check number of null values per column\n",
    "train.isnull().sum()"
   ]
  },
  {
   "cell_type": "code",
   "execution_count": 37,
   "metadata": {},
   "outputs": [],
   "source": [
    "# Drop null values\n",
    "train = train.dropna()"
   ]
  },
  {
   "cell_type": "code",
   "execution_count": 38,
   "metadata": {},
   "outputs": [
    {
     "name": "stdout",
     "output_type": "stream",
     "text": [
      "The dataset contains 0 duplicates\n"
     ]
    }
   ],
   "source": [
    "# Count number of duplicates\n",
    "print(f'The dataset contains {train.duplicated().sum()} duplicates')"
   ]
  },
  {
   "cell_type": "code",
   "execution_count": 39,
   "metadata": {},
   "outputs": [
    {
     "name": "stdout",
     "output_type": "stream",
     "text": [
      "<class 'pandas.core.frame.DataFrame'>\n",
      "Index: 135491 entries, 0 to 135492\n",
      "Data columns (total 14 columns):\n",
      " #   Column                     Non-Null Count   Dtype         \n",
      "---  ------                     --------------   -----         \n",
      " 0   disrict                    135491 non-null  category      \n",
      " 1   client_id                  135491 non-null  object        \n",
      " 2   client_catg                135491 non-null  category      \n",
      " 3   region                     135491 non-null  category      \n",
      " 4   creation_date              135491 non-null  datetime64[ns]\n",
      " 5   target                     135491 non-null  int32         \n",
      " 6   1transactions_count        135491 non-null  float64       \n",
      " 7   consommation_level_1_mean  135491 non-null  float64       \n",
      " 8   consommation_level_2_mean  135491 non-null  float64       \n",
      " 9   consommation_level_3_mean  135491 non-null  float64       \n",
      " 10  consommation_level_4_mean  135491 non-null  float64       \n",
      " 11  tarif_type                 135491 non-null  category      \n",
      " 12  counter_statue             135491 non-null  category      \n",
      " 13  counter_type               135491 non-null  category      \n",
      "dtypes: category(6), datetime64[ns](1), float64(5), int32(1), object(1)\n",
      "memory usage: 9.6+ MB\n"
     ]
    }
   ],
   "source": [
    "train.info()"
   ]
  },
  {
   "cell_type": "markdown",
   "metadata": {},
   "source": [
    "A couple of headers have been renamed to gain clarity.\n",
    "Note: the data type and values of client_id haven't been adjusted as the column will not be kept as a feature."
   ]
  },
  {
   "cell_type": "code",
   "execution_count": 40,
   "metadata": {},
   "outputs": [],
   "source": [
    "# Rename headers\n",
    "train.rename(columns={'1transactions_count': 'transactions_count',\n",
    "                      'disrict' : 'district'}, \n",
    "                      inplace=True)"
   ]
  },
  {
   "cell_type": "code",
   "execution_count": 41,
   "metadata": {},
   "outputs": [
    {
     "data": {
      "text/html": [
       "<div>\n",
       "<style scoped>\n",
       "    .dataframe tbody tr th:only-of-type {\n",
       "        vertical-align: middle;\n",
       "    }\n",
       "\n",
       "    .dataframe tbody tr th {\n",
       "        vertical-align: top;\n",
       "    }\n",
       "\n",
       "    .dataframe thead th {\n",
       "        text-align: right;\n",
       "    }\n",
       "</style>\n",
       "<table border=\"1\" class=\"dataframe\">\n",
       "  <thead>\n",
       "    <tr style=\"text-align: right;\">\n",
       "      <th></th>\n",
       "      <th>district</th>\n",
       "      <th>client_id</th>\n",
       "      <th>client_catg</th>\n",
       "      <th>region</th>\n",
       "      <th>creation_date</th>\n",
       "      <th>target</th>\n",
       "      <th>transactions_count</th>\n",
       "      <th>consommation_level_1_mean</th>\n",
       "      <th>consommation_level_2_mean</th>\n",
       "      <th>consommation_level_3_mean</th>\n",
       "      <th>consommation_level_4_mean</th>\n",
       "      <th>tarif_type</th>\n",
       "      <th>counter_statue</th>\n",
       "      <th>counter_type</th>\n",
       "    </tr>\n",
       "  </thead>\n",
       "  <tbody>\n",
       "    <tr>\n",
       "      <th>0</th>\n",
       "      <td>60</td>\n",
       "      <td>train_Client_0</td>\n",
       "      <td>11</td>\n",
       "      <td>101</td>\n",
       "      <td>1994-12-31</td>\n",
       "      <td>0</td>\n",
       "      <td>35.0</td>\n",
       "      <td>352.400000</td>\n",
       "      <td>10.571429</td>\n",
       "      <td>0.0</td>\n",
       "      <td>0.0</td>\n",
       "      <td>11</td>\n",
       "      <td>0</td>\n",
       "      <td>ELEC</td>\n",
       "    </tr>\n",
       "    <tr>\n",
       "      <th>1</th>\n",
       "      <td>69</td>\n",
       "      <td>train_Client_1</td>\n",
       "      <td>11</td>\n",
       "      <td>107</td>\n",
       "      <td>2002-05-29</td>\n",
       "      <td>0</td>\n",
       "      <td>37.0</td>\n",
       "      <td>557.540541</td>\n",
       "      <td>0.000000</td>\n",
       "      <td>0.0</td>\n",
       "      <td>0.0</td>\n",
       "      <td>11</td>\n",
       "      <td>0</td>\n",
       "      <td>ELEC</td>\n",
       "    </tr>\n",
       "  </tbody>\n",
       "</table>\n",
       "</div>"
      ],
      "text/plain": [
       "  district       client_id client_catg region creation_date  target   \n",
       "0       60  train_Client_0          11    101    1994-12-31       0  \\\n",
       "1       69  train_Client_1          11    107    2002-05-29       0   \n",
       "\n",
       "   transactions_count  consommation_level_1_mean  consommation_level_2_mean   \n",
       "0                35.0                 352.400000                  10.571429  \\\n",
       "1                37.0                 557.540541                   0.000000   \n",
       "\n",
       "   consommation_level_3_mean  consommation_level_4_mean tarif_type   \n",
       "0                        0.0                        0.0         11  \\\n",
       "1                        0.0                        0.0         11   \n",
       "\n",
       "  counter_statue counter_type  \n",
       "0              0         ELEC  \n",
       "1              0         ELEC  "
      ]
     },
     "execution_count": 41,
     "metadata": {},
     "output_type": "execute_result"
    }
   ],
   "source": [
    "# Check the renaming\n",
    "train.head(2)"
   ]
  },
  {
   "cell_type": "markdown",
   "metadata": {},
   "source": [
    "Let's check the correlations of the new data frame."
   ]
  },
  {
   "cell_type": "code",
   "execution_count": 42,
   "metadata": {},
   "outputs": [
    {
     "data": {
      "image/png": "[encoded data removed]",
      "text/plain": [
       "<Figure size 1400x700 with 2 Axes>"
      ]
     },
     "metadata": {},
     "output_type": "display_data"
    }
   ],
   "source": [
    "# Check correlation among variables\n",
    "numeric_col = train.drop(columns = ['client_id', 'creation_date','counter_type'])\n",
    "plt.subplots(figsize=(14, 7))\n",
    "mask = np.triu(np.ones_like(numeric_col.corr(), dtype=bool))\n",
    "sns.heatmap(numeric_col.corr().mul(100), mask=mask, annot=True, fmt=\".2f\", cmap=\"coolwarm\");"
   ]
  },
  {
   "cell_type": "markdown",
   "metadata": {},
   "source": [
    "### Baseline model"
   ]
  },
  {
   "cell_type": "markdown",
   "metadata": {},
   "source": [
    "We identified three unique categories in the client_catg column: 11, 12, and 51.\n",
    "For our baseline model, we assume that fraud occurs only within category '51'.\n",
    "\n",
    "Based on this assumption, we created a new column called fraud_only_catg_51, which serves as our predicted label (y_pred).\n",
    "This allows us to compare our predictions against the true labels (y_true) stored in the target column of the training dataset."
   ]
  },
  {
   "cell_type": "code",
   "execution_count": 43,
   "metadata": {},
   "outputs": [],
   "source": [
    "# Create an extra target column, where all clients from the category 51 commit fraud\n",
    "train['fraud_only_catg_51'] = train['client_catg'].apply(lambda x: 1 if x == 51 else 0)"
   ]
  },
  {
   "cell_type": "code",
   "execution_count": 44,
   "metadata": {},
   "outputs": [
    {
     "data": {
      "text/plain": [
       "client_catg  fraud_only_catg_51\n",
       "11           0                     131492\n",
       "             1                          0\n",
       "12           0                       2321\n",
       "             1                          0\n",
       "51           0                          0\n",
       "             1                       1678\n",
       "Name: fraud_only_catg_51, dtype: int64"
      ]
     },
     "execution_count": 44,
     "metadata": {},
     "output_type": "execute_result"
    }
   ],
   "source": [
    "# Check if the assignment in the new column has been done properly\n",
    "train.groupby(['client_catg','fraud_only_catg_51'])['fraud_only_catg_51'].count()"
   ]
  },
  {
   "cell_type": "markdown",
   "metadata": {},
   "source": [
    "Let's check the accuracy, recall, and presicion scores"
   ]
  },
  {
   "cell_type": "code",
   "execution_count": 45,
   "metadata": {},
   "outputs": [
    {
     "name": "stdout",
     "output_type": "stream",
     "text": [
      "Accuracy score: 0.936\n",
      "Recall score: 0.037\n",
      "Precision score: 0.169\n"
     ]
    }
   ],
   "source": [
    "#\n",
    "accuracy_51_is_fraudelent = accuracy_score(train['target'],train['fraud_only_catg_51'])\n",
    "recall_51_is_fraudelent = recall_score(train['target'],train['fraud_only_catg_51'])\n",
    "presicion_51_is_fraudelent = precision_score(train['target'],train['fraud_only_catg_51'])\n",
    "\n",
    "print(f'Accuracy score: {round(accuracy_51_is_fraudelent,3)}')\n",
    "print(f'Recall score: {round(recall_51_is_fraudelent,3)}')\n",
    "print(f'Precision score: {round(presicion_51_is_fraudelent,3)}')"
   ]
  },
  {
   "cell_type": "code",
   "execution_count": 46,
   "metadata": {},
   "outputs": [
    {
     "data": {
      "image/png": "[encoded data removed]",
      "text/plain": [
       "<Figure size 640x480 with 2 Axes>"
      ]
     },
     "metadata": {},
     "output_type": "display_data"
    }
   ],
   "source": [
    "sns.heatmap(confusion_matrix(train['target'],train['fraud_only_catg_51']), annot = True, fmt = 'd');"
   ]
  },
  {
   "cell_type": "markdown",
   "metadata": {},
   "source": [
    "This baseline model achieves a high overall accuracy of 0.936, but it performs poorly in identifying actual fraud cases.\n",
    "The large number of false negatives is particularly concerning, as each undetected fraud represents a direct loss for the company.\n",
    "With a recall score of only 0.037, the model fails to capture the vast majority of fraudulent transactions.\n",
    "Therefore, our next goal is to develop a model that can more effectively detect fraud and minimize false negatives, even if that means sacrificing some overall accuracy.\n"
   ]
  },
  {
   "cell_type": "markdown",
   "metadata": {},
   "source": [
    "Now that we have our baseline model defined, we can get rid off of the column 'fraud_only_catg_51'."
   ]
  },
  {
   "cell_type": "code",
   "execution_count": 47,
   "metadata": {},
   "outputs": [],
   "source": [
    "# Drop column 'fraud_only_catg_51'\n",
    "train = train.drop(columns='fraud_only_catg_51')"
   ]
  },
  {
   "cell_type": "markdown",
   "metadata": {},
   "source": [
    "### Target distribution"
   ]
  },
  {
   "cell_type": "markdown",
   "metadata": {},
   "source": [
    "The dataset is highly imbalanced, with only a small proportion of fraud cases.\n",
    "If we train our model on this data as is, it will struggle to correctly identify fraudulent transactions.\n",
    "To address this issue, we’ll apply oversampling to achieve a more balanced class distribution.\n",
    "Before doing so, however, we’ll first split the data into training and testing sets to ensure a fair evaluation of model performance."
   ]
  },
  {
   "cell_type": "code",
   "execution_count": 48,
   "metadata": {},
   "outputs": [
    {
     "data": {
      "image/png": "[encoded data removed]",
      "text/plain": [
       "<Figure size 640x480 with 1 Axes>"
      ]
     },
     "metadata": {},
     "output_type": "display_data"
    }
   ],
   "source": [
    "sns.countplot(x=train['target']);"
   ]
  },
  {
   "cell_type": "markdown",
   "metadata": {},
   "source": [
    "### Running the data split"
   ]
  },
  {
   "cell_type": "code",
   "execution_count": 49,
   "metadata": {},
   "outputs": [],
   "source": [
    "# Define features (X) and target (y)\n",
    "X = train.drop(columns=['target','client_id','creation_date'])\n",
    "y = train['target']"
   ]
  },
  {
   "cell_type": "code",
   "execution_count": 50,
   "metadata": {},
   "outputs": [
    {
     "name": "stdout",
     "output_type": "stream",
     "text": [
      "X has a shape of (135491, 11) and y (135491,)\n"
     ]
    }
   ],
   "source": [
    "# Display the features and the target shape\n",
    "print(f'X has a shape of {X.shape} and y {y.shape}')"
   ]
  },
  {
   "cell_type": "code",
   "execution_count": 51,
   "metadata": {},
   "outputs": [],
   "source": [
    "# Split the data in training and testing data\n",
    "X_train, X_test, y_train, y_test = train_test_split(X, y, test_size=0.3, random_state= SEED, stratify=y)"
   ]
  },
  {
   "cell_type": "code",
   "execution_count": 52,
   "metadata": {},
   "outputs": [
    {
     "name": "stdout",
     "output_type": "stream",
     "text": [
      "Train data: X_train has a shape of (94843, 11) and y_shape (94843,)\n",
      "Test data: X_test has a shape of (40648, 11) and y_shape (40648,)\n"
     ]
    }
   ],
   "source": [
    "# Display the splits shapes\n",
    "print(f'Train data: X_train has a shape of {X_train.shape} and y_shape {y_train.shape}')\n",
    "print(f'Test data: X_test has a shape of {X_test.shape} and y_shape {y_test.shape}')"
   ]
  },
  {
   "cell_type": "markdown",
   "metadata": {},
   "source": [
    "### Dealing with outliers"
   ]
  },
  {
   "cell_type": "code",
   "execution_count": 53,
   "metadata": {},
   "outputs": [],
   "source": [
    "def outlier_detector(frame, drop=False):\n",
    "    numeric_cols = frame.select_dtypes(include='number').columns  # only numeric columns\n",
    "    outlier_indices = set()  # to store indices of all detected outliers\n",
    "\n",
    "    for col in numeric_cols:\n",
    "        Q1 = frame[col].quantile(0.25)\n",
    "        Q3 = frame[col].quantile(0.75)\n",
    "        IQR = Q3 - Q1\n",
    "\n",
    "        # Detect outliers for this column\n",
    "        outliers = frame[(frame[col] < Q1 - 1.5 * IQR) | (frame[col] > Q3 + 1.5 * IQR)]\n",
    "        \n",
    "        if not outliers.empty:\n",
    "            print(f\"Column '{col}': {len(outliers)} outlier(s) detected.\")\n",
    "            outlier_indices.update(outliers.index)\n",
    "\n",
    "    if not outlier_indices:\n",
    "        print(\"No outliers detected in any numeric columns.\")\n",
    "\n",
    "    if drop:\n",
    "        print(f\"\\nDropping {len(outlier_indices)} outlier rows from dataset...\")\n",
    "        return frame.drop(index=list(outlier_indices))\n",
    "    else:\n",
    "        print(f\"\\nReturning {len(outlier_indices)} outlier rows (not dropped).\")\n",
    "        return frame.loc[list(outlier_indices)]\n"
   ]
  },
  {
   "cell_type": "code",
   "execution_count": 54,
   "metadata": {},
   "outputs": [
    {
     "name": "stdout",
     "output_type": "stream",
     "text": [
      "Column 'transactions_count': 697 outlier(s) detected.\n",
      "Column 'consommation_level_1_mean': 3811 outlier(s) detected.\n",
      "Column 'consommation_level_2_mean': 12923 outlier(s) detected.\n",
      "Column 'consommation_level_3_mean': 20139 outlier(s) detected.\n",
      "Column 'consommation_level_4_mean': 12942 outlier(s) detected.\n",
      "\n",
      "Returning 26465 outlier rows (not dropped).\n"
     ]
    },
    {
     "data": {
      "text/html": [
       "<div>\n",
       "<style scoped>\n",
       "    .dataframe tbody tr th:only-of-type {\n",
       "        vertical-align: middle;\n",
       "    }\n",
       "\n",
       "    .dataframe tbody tr th {\n",
       "        vertical-align: top;\n",
       "    }\n",
       "\n",
       "    .dataframe thead th {\n",
       "        text-align: right;\n",
       "    }\n",
       "</style>\n",
       "<table border=\"1\" class=\"dataframe\">\n",
       "  <thead>\n",
       "    <tr style=\"text-align: right;\">\n",
       "      <th></th>\n",
       "      <th>district</th>\n",
       "      <th>client_catg</th>\n",
       "      <th>region</th>\n",
       "      <th>transactions_count</th>\n",
       "      <th>consommation_level_1_mean</th>\n",
       "      <th>consommation_level_2_mean</th>\n",
       "      <th>consommation_level_3_mean</th>\n",
       "      <th>consommation_level_4_mean</th>\n",
       "      <th>tarif_type</th>\n",
       "      <th>counter_statue</th>\n",
       "      <th>counter_type</th>\n",
       "    </tr>\n",
       "  </thead>\n",
       "  <tbody>\n",
       "    <tr>\n",
       "      <th>131073</th>\n",
       "      <td>69</td>\n",
       "      <td>11</td>\n",
       "      <td>107</td>\n",
       "      <td>2.0</td>\n",
       "      <td>250.000000</td>\n",
       "      <td>100.000000</td>\n",
       "      <td>141.500000</td>\n",
       "      <td>0.000000</td>\n",
       "      <td>40</td>\n",
       "      <td>0</td>\n",
       "      <td>GAZ</td>\n",
       "    </tr>\n",
       "    <tr>\n",
       "      <th>9</th>\n",
       "      <td>60</td>\n",
       "      <td>11</td>\n",
       "      <td>101</td>\n",
       "      <td>5.0</td>\n",
       "      <td>850.800000</td>\n",
       "      <td>1629.200000</td>\n",
       "      <td>320.000000</td>\n",
       "      <td>4882.000000</td>\n",
       "      <td>11</td>\n",
       "      <td>0</td>\n",
       "      <td>ELEC</td>\n",
       "    </tr>\n",
       "    <tr>\n",
       "      <th>12</th>\n",
       "      <td>69</td>\n",
       "      <td>11</td>\n",
       "      <td>107</td>\n",
       "      <td>37.0</td>\n",
       "      <td>881.972973</td>\n",
       "      <td>158.567568</td>\n",
       "      <td>57.594595</td>\n",
       "      <td>0.000000</td>\n",
       "      <td>11</td>\n",
       "      <td>0</td>\n",
       "      <td>ELEC</td>\n",
       "    </tr>\n",
       "    <tr>\n",
       "      <th>131087</th>\n",
       "      <td>69</td>\n",
       "      <td>11</td>\n",
       "      <td>104</td>\n",
       "      <td>69.0</td>\n",
       "      <td>847.260870</td>\n",
       "      <td>236.391304</td>\n",
       "      <td>79.507246</td>\n",
       "      <td>52.942029</td>\n",
       "      <td>40</td>\n",
       "      <td>0</td>\n",
       "      <td>GAZ</td>\n",
       "    </tr>\n",
       "    <tr>\n",
       "      <th>131088</th>\n",
       "      <td>60</td>\n",
       "      <td>11</td>\n",
       "      <td>101</td>\n",
       "      <td>13.0</td>\n",
       "      <td>830.769231</td>\n",
       "      <td>414.769231</td>\n",
       "      <td>709.923077</td>\n",
       "      <td>1221.307692</td>\n",
       "      <td>11</td>\n",
       "      <td>0</td>\n",
       "      <td>ELEC</td>\n",
       "    </tr>\n",
       "    <tr>\n",
       "      <th>...</th>\n",
       "      <td>...</td>\n",
       "      <td>...</td>\n",
       "      <td>...</td>\n",
       "      <td>...</td>\n",
       "      <td>...</td>\n",
       "      <td>...</td>\n",
       "      <td>...</td>\n",
       "      <td>...</td>\n",
       "      <td>...</td>\n",
       "      <td>...</td>\n",
       "      <td>...</td>\n",
       "    </tr>\n",
       "    <tr>\n",
       "      <th>131064</th>\n",
       "      <td>62</td>\n",
       "      <td>11</td>\n",
       "      <td>310</td>\n",
       "      <td>67.0</td>\n",
       "      <td>338.985075</td>\n",
       "      <td>59.537313</td>\n",
       "      <td>61.223881</td>\n",
       "      <td>4.313433</td>\n",
       "      <td>40</td>\n",
       "      <td>0</td>\n",
       "      <td>GAZ</td>\n",
       "    </tr>\n",
       "    <tr>\n",
       "      <th>131065</th>\n",
       "      <td>63</td>\n",
       "      <td>11</td>\n",
       "      <td>311</td>\n",
       "      <td>3.0</td>\n",
       "      <td>1230.333333</td>\n",
       "      <td>0.000000</td>\n",
       "      <td>0.000000</td>\n",
       "      <td>0.000000</td>\n",
       "      <td>11</td>\n",
       "      <td>0</td>\n",
       "      <td>ELEC</td>\n",
       "    </tr>\n",
       "    <tr>\n",
       "      <th>131066</th>\n",
       "      <td>63</td>\n",
       "      <td>11</td>\n",
       "      <td>306</td>\n",
       "      <td>3.0</td>\n",
       "      <td>233.333333</td>\n",
       "      <td>238.333333</td>\n",
       "      <td>0.000000</td>\n",
       "      <td>0.000000</td>\n",
       "      <td>10</td>\n",
       "      <td>0</td>\n",
       "      <td>ELEC</td>\n",
       "    </tr>\n",
       "    <tr>\n",
       "      <th>131068</th>\n",
       "      <td>62</td>\n",
       "      <td>11</td>\n",
       "      <td>303</td>\n",
       "      <td>76.0</td>\n",
       "      <td>676.986842</td>\n",
       "      <td>115.644737</td>\n",
       "      <td>44.276316</td>\n",
       "      <td>1.000000</td>\n",
       "      <td>40</td>\n",
       "      <td>0</td>\n",
       "      <td>GAZ</td>\n",
       "    </tr>\n",
       "    <tr>\n",
       "      <th>131069</th>\n",
       "      <td>62</td>\n",
       "      <td>11</td>\n",
       "      <td>307</td>\n",
       "      <td>31.0</td>\n",
       "      <td>932.806452</td>\n",
       "      <td>2509.451613</td>\n",
       "      <td>400.000000</td>\n",
       "      <td>2168.064516</td>\n",
       "      <td>11</td>\n",
       "      <td>0</td>\n",
       "      <td>ELEC</td>\n",
       "    </tr>\n",
       "  </tbody>\n",
       "</table>\n",
       "<p>26465 rows × 11 columns</p>\n",
       "</div>"
      ],
      "text/plain": [
       "       district client_catg region  transactions_count   \n",
       "131073       69          11    107                 2.0  \\\n",
       "9            60          11    101                 5.0   \n",
       "12           69          11    107                37.0   \n",
       "131087       69          11    104                69.0   \n",
       "131088       60          11    101                13.0   \n",
       "...         ...         ...    ...                 ...   \n",
       "131064       62          11    310                67.0   \n",
       "131065       63          11    311                 3.0   \n",
       "131066       63          11    306                 3.0   \n",
       "131068       62          11    303                76.0   \n",
       "131069       62          11    307                31.0   \n",
       "\n",
       "        consommation_level_1_mean  consommation_level_2_mean   \n",
       "131073                 250.000000                 100.000000  \\\n",
       "9                      850.800000                1629.200000   \n",
       "12                     881.972973                 158.567568   \n",
       "131087                 847.260870                 236.391304   \n",
       "131088                 830.769231                 414.769231   \n",
       "...                           ...                        ...   \n",
       "131064                 338.985075                  59.537313   \n",
       "131065                1230.333333                   0.000000   \n",
       "131066                 233.333333                 238.333333   \n",
       "131068                 676.986842                 115.644737   \n",
       "131069                 932.806452                2509.451613   \n",
       "\n",
       "        consommation_level_3_mean  consommation_level_4_mean tarif_type   \n",
       "131073                 141.500000                   0.000000         40  \\\n",
       "9                      320.000000                4882.000000         11   \n",
       "12                      57.594595                   0.000000         11   \n",
       "131087                  79.507246                  52.942029         40   \n",
       "131088                 709.923077                1221.307692         11   \n",
       "...                           ...                        ...        ...   \n",
       "131064                  61.223881                   4.313433         40   \n",
       "131065                   0.000000                   0.000000         11   \n",
       "131066                   0.000000                   0.000000         10   \n",
       "131068                  44.276316                   1.000000         40   \n",
       "131069                 400.000000                2168.064516         11   \n",
       "\n",
       "       counter_statue counter_type  \n",
       "131073              0          GAZ  \n",
       "9                   0         ELEC  \n",
       "12                  0         ELEC  \n",
       "131087              0          GAZ  \n",
       "131088              0         ELEC  \n",
       "...               ...          ...  \n",
       "131064              0          GAZ  \n",
       "131065              0         ELEC  \n",
       "131066              0         ELEC  \n",
       "131068              0          GAZ  \n",
       "131069              0         ELEC  \n",
       "\n",
       "[26465 rows x 11 columns]"
      ]
     },
     "execution_count": 54,
     "metadata": {},
     "output_type": "execute_result"
    }
   ],
   "source": [
    "outlier_detector(X_train)"
   ]
  },
  {
   "cell_type": "code",
   "execution_count": 55,
   "metadata": {},
   "outputs": [
    {
     "data": {
      "image/png": "[encoded data removed]",
      "text/plain": [
       "<Figure size 1500x600 with 1 Axes>"
      ]
     },
     "metadata": {},
     "output_type": "display_data"
    }
   ],
   "source": [
    "X_train[['transactions_count','consommation_level_1_mean','consommation_level_2_mean', 'consommation_level_3_mean', 'consommation_level_4_mean']].boxplot(figsize=(15,6))\n",
    "plt.show()\n"
   ]
  },
  {
   "cell_type": "markdown",
   "metadata": {},
   "source": [
    "The number of outliers is too high to drop them. Therefore, we'll apply a log transformation"
   ]
  },
  {
   "cell_type": "code",
   "execution_count": 56,
   "metadata": {},
   "outputs": [],
   "source": [
    "cols = ['transactions_count', 'consommation_level_1_mean', 'consommation_level_2_mean',\n",
    "        'consommation_level_3_mean', 'consommation_level_4_mean']\n",
    "X_train.loc[:, cols] = np.log1p(X_train[cols])\n",
    "X_test.loc[:, cols] = np.log1p(X_test[cols])"
   ]
  },
  {
   "cell_type": "code",
   "execution_count": 57,
   "metadata": {},
   "outputs": [
    {
     "name": "stdout",
     "output_type": "stream",
     "text": [
      "Column 'consommation_level_1_mean': 7939 outlier(s) detected.\n",
      "Column 'consommation_level_2_mean': 6 outlier(s) detected.\n",
      "Column 'consommation_level_3_mean': 10236 outlier(s) detected.\n",
      "Column 'consommation_level_4_mean': 12942 outlier(s) detected.\n",
      "\n",
      "Returning 22410 outlier rows (not dropped).\n"
     ]
    },
    {
     "data": {
      "text/html": [
       "<div>\n",
       "<style scoped>\n",
       "    .dataframe tbody tr th:only-of-type {\n",
       "        vertical-align: middle;\n",
       "    }\n",
       "\n",
       "    .dataframe tbody tr th {\n",
       "        vertical-align: top;\n",
       "    }\n",
       "\n",
       "    .dataframe thead th {\n",
       "        text-align: right;\n",
       "    }\n",
       "</style>\n",
       "<table border=\"1\" class=\"dataframe\">\n",
       "  <thead>\n",
       "    <tr style=\"text-align: right;\">\n",
       "      <th></th>\n",
       "      <th>district</th>\n",
       "      <th>client_catg</th>\n",
       "      <th>region</th>\n",
       "      <th>transactions_count</th>\n",
       "      <th>consommation_level_1_mean</th>\n",
       "      <th>consommation_level_2_mean</th>\n",
       "      <th>consommation_level_3_mean</th>\n",
       "      <th>consommation_level_4_mean</th>\n",
       "      <th>tarif_type</th>\n",
       "      <th>counter_statue</th>\n",
       "      <th>counter_type</th>\n",
       "    </tr>\n",
       "  </thead>\n",
       "  <tbody>\n",
       "    <tr>\n",
       "      <th>131073</th>\n",
       "      <td>69</td>\n",
       "      <td>11</td>\n",
       "      <td>107</td>\n",
       "      <td>1.098612</td>\n",
       "      <td>5.525453</td>\n",
       "      <td>4.615121</td>\n",
       "      <td>4.959342</td>\n",
       "      <td>0.000000</td>\n",
       "      <td>40</td>\n",
       "      <td>0</td>\n",
       "      <td>GAZ</td>\n",
       "    </tr>\n",
       "    <tr>\n",
       "      <th>3</th>\n",
       "      <td>69</td>\n",
       "      <td>11</td>\n",
       "      <td>105</td>\n",
       "      <td>3.044522</td>\n",
       "      <td>0.788457</td>\n",
       "      <td>0.000000</td>\n",
       "      <td>0.000000</td>\n",
       "      <td>0.000000</td>\n",
       "      <td>11</td>\n",
       "      <td>0</td>\n",
       "      <td>ELEC</td>\n",
       "    </tr>\n",
       "    <tr>\n",
       "      <th>9</th>\n",
       "      <td>60</td>\n",
       "      <td>11</td>\n",
       "      <td>101</td>\n",
       "      <td>1.791759</td>\n",
       "      <td>6.747352</td>\n",
       "      <td>7.396458</td>\n",
       "      <td>5.771441</td>\n",
       "      <td>8.493515</td>\n",
       "      <td>11</td>\n",
       "      <td>0</td>\n",
       "      <td>ELEC</td>\n",
       "    </tr>\n",
       "    <tr>\n",
       "      <th>12</th>\n",
       "      <td>69</td>\n",
       "      <td>11</td>\n",
       "      <td>107</td>\n",
       "      <td>3.637586</td>\n",
       "      <td>6.783295</td>\n",
       "      <td>5.072467</td>\n",
       "      <td>4.070642</td>\n",
       "      <td>0.000000</td>\n",
       "      <td>11</td>\n",
       "      <td>0</td>\n",
       "      <td>ELEC</td>\n",
       "    </tr>\n",
       "    <tr>\n",
       "      <th>14</th>\n",
       "      <td>69</td>\n",
       "      <td>11</td>\n",
       "      <td>104</td>\n",
       "      <td>2.302585</td>\n",
       "      <td>0.000000</td>\n",
       "      <td>0.000000</td>\n",
       "      <td>0.000000</td>\n",
       "      <td>0.000000</td>\n",
       "      <td>11</td>\n",
       "      <td>0</td>\n",
       "      <td>ELEC</td>\n",
       "    </tr>\n",
       "    <tr>\n",
       "      <th>...</th>\n",
       "      <td>...</td>\n",
       "      <td>...</td>\n",
       "      <td>...</td>\n",
       "      <td>...</td>\n",
       "      <td>...</td>\n",
       "      <td>...</td>\n",
       "      <td>...</td>\n",
       "      <td>...</td>\n",
       "      <td>...</td>\n",
       "      <td>...</td>\n",
       "      <td>...</td>\n",
       "    </tr>\n",
       "    <tr>\n",
       "      <th>131055</th>\n",
       "      <td>60</td>\n",
       "      <td>11</td>\n",
       "      <td>101</td>\n",
       "      <td>3.737670</td>\n",
       "      <td>5.386284</td>\n",
       "      <td>3.714761</td>\n",
       "      <td>3.021020</td>\n",
       "      <td>2.577997</td>\n",
       "      <td>10</td>\n",
       "      <td>0</td>\n",
       "      <td>ELEC</td>\n",
       "    </tr>\n",
       "    <tr>\n",
       "      <th>131060</th>\n",
       "      <td>69</td>\n",
       "      <td>11</td>\n",
       "      <td>104</td>\n",
       "      <td>1.791759</td>\n",
       "      <td>6.768723</td>\n",
       "      <td>5.484797</td>\n",
       "      <td>6.175867</td>\n",
       "      <td>8.754949</td>\n",
       "      <td>11</td>\n",
       "      <td>0</td>\n",
       "      <td>ELEC</td>\n",
       "    </tr>\n",
       "    <tr>\n",
       "      <th>131064</th>\n",
       "      <td>62</td>\n",
       "      <td>11</td>\n",
       "      <td>310</td>\n",
       "      <td>4.219508</td>\n",
       "      <td>5.828902</td>\n",
       "      <td>4.103260</td>\n",
       "      <td>4.130739</td>\n",
       "      <td>1.670238</td>\n",
       "      <td>40</td>\n",
       "      <td>0</td>\n",
       "      <td>GAZ</td>\n",
       "    </tr>\n",
       "    <tr>\n",
       "      <th>131068</th>\n",
       "      <td>62</td>\n",
       "      <td>11</td>\n",
       "      <td>303</td>\n",
       "      <td>4.343805</td>\n",
       "      <td>6.519128</td>\n",
       "      <td>4.759133</td>\n",
       "      <td>3.812784</td>\n",
       "      <td>0.693147</td>\n",
       "      <td>40</td>\n",
       "      <td>0</td>\n",
       "      <td>GAZ</td>\n",
       "    </tr>\n",
       "    <tr>\n",
       "      <th>131069</th>\n",
       "      <td>62</td>\n",
       "      <td>11</td>\n",
       "      <td>307</td>\n",
       "      <td>3.465736</td>\n",
       "      <td>6.839269</td>\n",
       "      <td>7.828218</td>\n",
       "      <td>5.993961</td>\n",
       "      <td>7.682051</td>\n",
       "      <td>11</td>\n",
       "      <td>0</td>\n",
       "      <td>ELEC</td>\n",
       "    </tr>\n",
       "  </tbody>\n",
       "</table>\n",
       "<p>22410 rows × 11 columns</p>\n",
       "</div>"
      ],
      "text/plain": [
       "       district client_catg region  transactions_count   \n",
       "131073       69          11    107            1.098612  \\\n",
       "3            69          11    105            3.044522   \n",
       "9            60          11    101            1.791759   \n",
       "12           69          11    107            3.637586   \n",
       "14           69          11    104            2.302585   \n",
       "...         ...         ...    ...                 ...   \n",
       "131055       60          11    101            3.737670   \n",
       "131060       69          11    104            1.791759   \n",
       "131064       62          11    310            4.219508   \n",
       "131068       62          11    303            4.343805   \n",
       "131069       62          11    307            3.465736   \n",
       "\n",
       "        consommation_level_1_mean  consommation_level_2_mean   \n",
       "131073                   5.525453                   4.615121  \\\n",
       "3                        0.788457                   0.000000   \n",
       "9                        6.747352                   7.396458   \n",
       "12                       6.783295                   5.072467   \n",
       "14                       0.000000                   0.000000   \n",
       "...                           ...                        ...   \n",
       "131055                   5.386284                   3.714761   \n",
       "131060                   6.768723                   5.484797   \n",
       "131064                   5.828902                   4.103260   \n",
       "131068                   6.519128                   4.759133   \n",
       "131069                   6.839269                   7.828218   \n",
       "\n",
       "        consommation_level_3_mean  consommation_level_4_mean tarif_type   \n",
       "131073                   4.959342                   0.000000         40  \\\n",
       "3                        0.000000                   0.000000         11   \n",
       "9                        5.771441                   8.493515         11   \n",
       "12                       4.070642                   0.000000         11   \n",
       "14                       0.000000                   0.000000         11   \n",
       "...                           ...                        ...        ...   \n",
       "131055                   3.021020                   2.577997         10   \n",
       "131060                   6.175867                   8.754949         11   \n",
       "131064                   4.130739                   1.670238         40   \n",
       "131068                   3.812784                   0.693147         40   \n",
       "131069                   5.993961                   7.682051         11   \n",
       "\n",
       "       counter_statue counter_type  \n",
       "131073              0          GAZ  \n",
       "3                   0         ELEC  \n",
       "9                   0         ELEC  \n",
       "12                  0         ELEC  \n",
       "14                  0         ELEC  \n",
       "...               ...          ...  \n",
       "131055              0         ELEC  \n",
       "131060              0         ELEC  \n",
       "131064              0          GAZ  \n",
       "131068              0          GAZ  \n",
       "131069              0         ELEC  \n",
       "\n",
       "[22410 rows x 11 columns]"
      ]
     },
     "execution_count": 57,
     "metadata": {},
     "output_type": "execute_result"
    }
   ],
   "source": [
    "outlier_detector(X_train)"
   ]
  },
  {
   "cell_type": "code",
   "execution_count": 58,
   "metadata": {},
   "outputs": [
    {
     "data": {
      "image/png": "[encoded data removed]",
      "text/plain": [
       "<Figure size 1500x600 with 1 Axes>"
      ]
     },
     "metadata": {},
     "output_type": "display_data"
    }
   ],
   "source": [
    "X_train[['transactions_count','consommation_level_1_mean','consommation_level_2_mean', 'consommation_level_3_mean', 'consommation_level_4_mean']].boxplot(figsize=(15,6))\n",
    "plt.show()"
   ]
  },
  {
   "cell_type": "markdown",
   "metadata": {},
   "source": [
    "### Tranforming categorical features with one-hot-encode"
   ]
  },
  {
   "cell_type": "code",
   "execution_count": 59,
   "metadata": {},
   "outputs": [],
   "source": [
    "# Instantiating a OneHotEncoder object\n",
    "encoder = OneHotEncoder(drop='first', handle_unknown='ignore', sparse_output=True)"
   ]
  },
  {
   "cell_type": "code",
   "execution_count": 60,
   "metadata": {},
   "outputs": [
    {
     "data": {
      "text/html": [
       "<style>#sk-container-id-1 {color: black;background-color: white;}#sk-container-id-1 pre{padding: 0;}#sk-container-id-1 div.sk-toggleable {background-color: white;}#sk-container-id-1 label.sk-toggleable__label {cursor: pointer;display: block;width: 100%;margin-bottom: 0;padding: 0.3em;box-sizing: border-box;text-align: center;}#sk-container-id-1 label.sk-toggleable__label-arrow:before {content: \"▸\";float: left;margin-right: 0.25em;color: #696969;}#sk-container-id-1 label.sk-toggleable__label-arrow:hover:before {color: black;}#sk-container-id-1 div.sk-estimator:hover label.sk-toggleable__label-arrow:before {color: black;}#sk-container-id-1 div.sk-toggleable__content {max-height: 0;max-width: 0;overflow: hidden;text-align: left;background-color: #f0f8ff;}#sk-container-id-1 div.sk-toggleable__content pre {margin: 0.2em;color: black;border-radius: 0.25em;background-color: #f0f8ff;}#sk-container-id-1 input.sk-toggleable__control:checked~div.sk-toggleable__content {max-height: 200px;max-width: 100%;overflow: auto;}#sk-container-id-1 input.sk-toggleable__control:checked~label.sk-toggleable__label-arrow:before {content: \"▾\";}#sk-container-id-1 div.sk-estimator input.sk-toggleable__control:checked~label.sk-toggleable__label {background-color: #d4ebff;}#sk-container-id-1 div.sk-label input.sk-toggleable__control:checked~label.sk-toggleable__label {background-color: #d4ebff;}#sk-container-id-1 input.sk-hidden--visually {border: 0;clip: rect(1px 1px 1px 1px);clip: rect(1px, 1px, 1px, 1px);height: 1px;margin: -1px;overflow: hidden;padding: 0;position: absolute;width: 1px;}#sk-container-id-1 div.sk-estimator {font-family: monospace;background-color: #f0f8ff;border: 1px dotted black;border-radius: 0.25em;box-sizing: border-box;margin-bottom: 0.5em;}#sk-container-id-1 div.sk-estimator:hover {background-color: #d4ebff;}#sk-container-id-1 div.sk-parallel-item::after {content: \"\";width: 100%;border-bottom: 1px solid gray;flex-grow: 1;}#sk-container-id-1 div.sk-label:hover label.sk-toggleable__label {background-color: #d4ebff;}#sk-container-id-1 div.sk-serial::before {content: \"\";position: absolute;border-left: 1px solid gray;box-sizing: border-box;top: 0;bottom: 0;left: 50%;z-index: 0;}#sk-container-id-1 div.sk-serial {display: flex;flex-direction: column;align-items: center;background-color: white;padding-right: 0.2em;padding-left: 0.2em;position: relative;}#sk-container-id-1 div.sk-item {position: relative;z-index: 1;}#sk-container-id-1 div.sk-parallel {display: flex;align-items: stretch;justify-content: center;background-color: white;position: relative;}#sk-container-id-1 div.sk-item::before, #sk-container-id-1 div.sk-parallel-item::before {content: \"\";position: absolute;border-left: 1px solid gray;box-sizing: border-box;top: 0;bottom: 0;left: 50%;z-index: -1;}#sk-container-id-1 div.sk-parallel-item {display: flex;flex-direction: column;z-index: 1;position: relative;background-color: white;}#sk-container-id-1 div.sk-parallel-item:first-child::after {align-self: flex-end;width: 50%;}#sk-container-id-1 div.sk-parallel-item:last-child::after {align-self: flex-start;width: 50%;}#sk-container-id-1 div.sk-parallel-item:only-child::after {width: 0;}#sk-container-id-1 div.sk-dashed-wrapped {border: 1px dashed gray;margin: 0 0.4em 0.5em 0.4em;box-sizing: border-box;padding-bottom: 0.4em;background-color: white;}#sk-container-id-1 div.sk-label label {font-family: monospace;font-weight: bold;display: inline-block;line-height: 1.2em;}#sk-container-id-1 div.sk-label-container {text-align: center;}#sk-container-id-1 div.sk-container {/* jupyter's `normalize.less` sets `[hidden] { display: none; }` but bootstrap.min.css set `[hidden] { display: none !important; }` so we also need the `!important` here to be able to override the default hidden behavior on the sphinx rendered scikit-learn.org. See: https://github.com/scikit-learn/scikit-learn/issues/21755 */display: inline-block !important;position: relative;}#sk-container-id-1 div.sk-text-repr-fallback {display: none;}</style><div id=\"sk-container-id-1\" class=\"sk-top-container\"><div class=\"sk-text-repr-fallback\"><pre>OneHotEncoder(drop=&#x27;first&#x27;, handle_unknown=&#x27;ignore&#x27;)</pre><b>In a Jupyter environment, please rerun this cell to show the HTML representation or trust the notebook. <br />On GitHub, the HTML representation is unable to render, please try loading this page with nbviewer.org.</b></div><div class=\"sk-container\" hidden><div class=\"sk-item\"><div class=\"sk-estimator sk-toggleable\"><input class=\"sk-toggleable__control sk-hidden--visually\" id=\"sk-estimator-id-1\" type=\"checkbox\" checked><label for=\"sk-estimator-id-1\" class=\"sk-toggleable__label sk-toggleable__label-arrow\">OneHotEncoder</label><div class=\"sk-toggleable__content\"><pre>OneHotEncoder(drop=&#x27;first&#x27;, handle_unknown=&#x27;ignore&#x27;)</pre></div></div></div></div></div>"
      ],
      "text/plain": [
       "OneHotEncoder(drop='first', handle_unknown='ignore')"
      ]
     },
     "execution_count": 60,
     "metadata": {},
     "output_type": "execute_result"
    }
   ],
   "source": [
    "# Define categorical columns\n",
    "categorical_cols = ['counter_type', 'district', 'client_catg', 'region', 'tarif_type', 'counter_statue']\n",
    "\n",
    "# Fit encoder to column counter_type\n",
    "encoder.fit(X_train[categorical_cols])"
   ]
  },
  {
   "cell_type": "code",
   "execution_count": 61,
   "metadata": {},
   "outputs": [
    {
     "data": {
      "text/plain": [
       "[array(['ELEC', 'GAZ'], dtype=object),\n",
       " array([60, 62, 63, 69], dtype=int64),\n",
       " array([11, 12, 51], dtype=int64),\n",
       " array([101, 103, 104, 105, 106, 107, 206, 301, 302, 303, 304, 305, 306,\n",
       "        307, 308, 309, 310, 311, 312, 313, 371, 372, 379, 399], dtype=int64),\n",
       " array([ 9, 10, 11, 12, 13, 14, 15, 21, 24, 29, 30, 40, 45], dtype=int64),\n",
       " array(['0', '1', '2', '3', '4', '5'], dtype=object)]"
      ]
     },
     "execution_count": 61,
     "metadata": {},
     "output_type": "execute_result"
    }
   ],
   "source": [
    "encoder.categories_"
   ]
  },
  {
   "cell_type": "code",
   "execution_count": 62,
   "metadata": {},
   "outputs": [
    {
     "data": {
      "text/plain": [
       "array(['counter_type_GAZ', 'district_62', 'district_63', 'district_69',\n",
       "       'client_catg_12', 'client_catg_51', 'region_103', 'region_104',\n",
       "       'region_105', 'region_106', 'region_107', 'region_206',\n",
       "       'region_301', 'region_302', 'region_303', 'region_304',\n",
       "       'region_305', 'region_306', 'region_307', 'region_308',\n",
       "       'region_309', 'region_310', 'region_311', 'region_312',\n",
       "       'region_313', 'region_371', 'region_372', 'region_379',\n",
       "       'region_399', 'tarif_type_10', 'tarif_type_11', 'tarif_type_12',\n",
       "       'tarif_type_13', 'tarif_type_14', 'tarif_type_15', 'tarif_type_21',\n",
       "       'tarif_type_24', 'tarif_type_29', 'tarif_type_30', 'tarif_type_40',\n",
       "       'tarif_type_45', 'counter_statue_1', 'counter_statue_2',\n",
       "       'counter_statue_3', 'counter_statue_4', 'counter_statue_5'],\n",
       "      dtype=object)"
      ]
     },
     "execution_count": 62,
     "metadata": {},
     "output_type": "execute_result"
    }
   ],
   "source": [
    "encoder.get_feature_names_out()"
   ]
  },
  {
   "cell_type": "code",
   "execution_count": 63,
   "metadata": {},
   "outputs": [
    {
     "name": "stderr",
     "output_type": "stream",
     "text": [
      "c:\\Users\\farle\\spiced\\depos\\fraud-detection\\.venv\\Lib\\site-packages\\sklearn\\preprocessing\\_encoders.py:202: UserWarning: Found unknown categories in columns [3, 4] during transform. These unknown categories will be encoded as all zeros\n",
      "  warnings.warn(\n"
     ]
    }
   ],
   "source": [
    "# Transform both train and test using the same encoder\n",
    "X_train_encoded = encoder.transform(X_train[categorical_cols])\n",
    "X_test_encoded = encoder.transform(X_test[categorical_cols])"
   ]
  },
  {
   "cell_type": "code",
   "execution_count": 64,
   "metadata": {},
   "outputs": [],
   "source": [
    "X_train_encoded_dense = X_train_encoded.todense()\n",
    "X_test_encoded_dense = X_test_encoded.todense()"
   ]
  },
  {
   "cell_type": "code",
   "execution_count": 65,
   "metadata": {},
   "outputs": [],
   "source": [
    "X_train_encoded_df = pd.DataFrame(data=X_train_encoded_dense, columns= encoder.get_feature_names_out(categorical_cols), index=X_train.index)\n",
    "X_test_encoded_df = pd.DataFrame(data=X_test_encoded_dense, columns= encoder.get_feature_names_out(categorical_cols), index=X_test.index)"
   ]
  },
  {
   "cell_type": "code",
   "execution_count": 66,
   "metadata": {},
   "outputs": [],
   "source": [
    "# Drop the original column and concatenate the new encoded columns\n",
    "X_train = pd.concat([X_train.drop(columns= categorical_cols), X_train_encoded_df], axis=1)\n",
    "X_test = pd.concat([X_test.drop(columns= categorical_cols), X_test_encoded_df], axis=1)"
   ]
  },
  {
   "cell_type": "code",
   "execution_count": 67,
   "metadata": {},
   "outputs": [
    {
     "data": {
      "text/html": [
       "<div>\n",
       "<style scoped>\n",
       "    .dataframe tbody tr th:only-of-type {\n",
       "        vertical-align: middle;\n",
       "    }\n",
       "\n",
       "    .dataframe tbody tr th {\n",
       "        vertical-align: top;\n",
       "    }\n",
       "\n",
       "    .dataframe thead th {\n",
       "        text-align: right;\n",
       "    }\n",
       "</style>\n",
       "<table border=\"1\" class=\"dataframe\">\n",
       "  <thead>\n",
       "    <tr style=\"text-align: right;\">\n",
       "      <th></th>\n",
       "      <th>transactions_count</th>\n",
       "      <th>consommation_level_1_mean</th>\n",
       "      <th>consommation_level_2_mean</th>\n",
       "      <th>consommation_level_3_mean</th>\n",
       "      <th>consommation_level_4_mean</th>\n",
       "      <th>counter_type_GAZ</th>\n",
       "      <th>district_62</th>\n",
       "      <th>district_63</th>\n",
       "      <th>district_69</th>\n",
       "      <th>client_catg_12</th>\n",
       "      <th>...</th>\n",
       "      <th>tarif_type_24</th>\n",
       "      <th>tarif_type_29</th>\n",
       "      <th>tarif_type_30</th>\n",
       "      <th>tarif_type_40</th>\n",
       "      <th>tarif_type_45</th>\n",
       "      <th>counter_statue_1</th>\n",
       "      <th>counter_statue_2</th>\n",
       "      <th>counter_statue_3</th>\n",
       "      <th>counter_statue_4</th>\n",
       "      <th>counter_statue_5</th>\n",
       "    </tr>\n",
       "  </thead>\n",
       "  <tbody>\n",
       "    <tr>\n",
       "      <th>28199</th>\n",
       "      <td>2.079442</td>\n",
       "      <td>5.528295</td>\n",
       "      <td>0.000000</td>\n",
       "      <td>0.000000</td>\n",
       "      <td>0.0</td>\n",
       "      <td>0.0</td>\n",
       "      <td>0.0</td>\n",
       "      <td>1.0</td>\n",
       "      <td>0.0</td>\n",
       "      <td>0.0</td>\n",
       "      <td>...</td>\n",
       "      <td>0.0</td>\n",
       "      <td>0.0</td>\n",
       "      <td>0.0</td>\n",
       "      <td>0.0</td>\n",
       "      <td>0.0</td>\n",
       "      <td>0.0</td>\n",
       "      <td>0.0</td>\n",
       "      <td>0.0</td>\n",
       "      <td>0.0</td>\n",
       "      <td>0.0</td>\n",
       "    </tr>\n",
       "    <tr>\n",
       "      <th>18397</th>\n",
       "      <td>4.043051</td>\n",
       "      <td>5.661409</td>\n",
       "      <td>5.614626</td>\n",
       "      <td>0.000000</td>\n",
       "      <td>0.0</td>\n",
       "      <td>1.0</td>\n",
       "      <td>1.0</td>\n",
       "      <td>0.0</td>\n",
       "      <td>0.0</td>\n",
       "      <td>0.0</td>\n",
       "      <td>...</td>\n",
       "      <td>0.0</td>\n",
       "      <td>0.0</td>\n",
       "      <td>0.0</td>\n",
       "      <td>1.0</td>\n",
       "      <td>0.0</td>\n",
       "      <td>1.0</td>\n",
       "      <td>0.0</td>\n",
       "      <td>0.0</td>\n",
       "      <td>0.0</td>\n",
       "      <td>0.0</td>\n",
       "    </tr>\n",
       "    <tr>\n",
       "      <th>47941</th>\n",
       "      <td>0.693147</td>\n",
       "      <td>6.579251</td>\n",
       "      <td>0.000000</td>\n",
       "      <td>0.000000</td>\n",
       "      <td>0.0</td>\n",
       "      <td>0.0</td>\n",
       "      <td>1.0</td>\n",
       "      <td>0.0</td>\n",
       "      <td>0.0</td>\n",
       "      <td>0.0</td>\n",
       "      <td>...</td>\n",
       "      <td>0.0</td>\n",
       "      <td>0.0</td>\n",
       "      <td>0.0</td>\n",
       "      <td>0.0</td>\n",
       "      <td>0.0</td>\n",
       "      <td>0.0</td>\n",
       "      <td>0.0</td>\n",
       "      <td>0.0</td>\n",
       "      <td>0.0</td>\n",
       "      <td>0.0</td>\n",
       "    </tr>\n",
       "    <tr>\n",
       "      <th>36406</th>\n",
       "      <td>2.772589</td>\n",
       "      <td>6.509166</td>\n",
       "      <td>4.641824</td>\n",
       "      <td>3.442553</td>\n",
       "      <td>0.0</td>\n",
       "      <td>0.0</td>\n",
       "      <td>0.0</td>\n",
       "      <td>0.0</td>\n",
       "      <td>1.0</td>\n",
       "      <td>0.0</td>\n",
       "      <td>...</td>\n",
       "      <td>0.0</td>\n",
       "      <td>0.0</td>\n",
       "      <td>0.0</td>\n",
       "      <td>0.0</td>\n",
       "      <td>0.0</td>\n",
       "      <td>0.0</td>\n",
       "      <td>0.0</td>\n",
       "      <td>0.0</td>\n",
       "      <td>0.0</td>\n",
       "      <td>0.0</td>\n",
       "    </tr>\n",
       "    <tr>\n",
       "      <th>33319</th>\n",
       "      <td>3.931826</td>\n",
       "      <td>6.012639</td>\n",
       "      <td>2.924236</td>\n",
       "      <td>0.000000</td>\n",
       "      <td>0.0</td>\n",
       "      <td>0.0</td>\n",
       "      <td>0.0</td>\n",
       "      <td>1.0</td>\n",
       "      <td>0.0</td>\n",
       "      <td>0.0</td>\n",
       "      <td>...</td>\n",
       "      <td>0.0</td>\n",
       "      <td>0.0</td>\n",
       "      <td>0.0</td>\n",
       "      <td>0.0</td>\n",
       "      <td>0.0</td>\n",
       "      <td>0.0</td>\n",
       "      <td>0.0</td>\n",
       "      <td>0.0</td>\n",
       "      <td>0.0</td>\n",
       "      <td>0.0</td>\n",
       "    </tr>\n",
       "  </tbody>\n",
       "</table>\n",
       "<p>5 rows × 51 columns</p>\n",
       "</div>"
      ],
      "text/plain": [
       "       transactions_count  consommation_level_1_mean   \n",
       "28199            2.079442                   5.528295  \\\n",
       "18397            4.043051                   5.661409   \n",
       "47941            0.693147                   6.579251   \n",
       "36406            2.772589                   6.509166   \n",
       "33319            3.931826                   6.012639   \n",
       "\n",
       "       consommation_level_2_mean  consommation_level_3_mean   \n",
       "28199                   0.000000                   0.000000  \\\n",
       "18397                   5.614626                   0.000000   \n",
       "47941                   0.000000                   0.000000   \n",
       "36406                   4.641824                   3.442553   \n",
       "33319                   2.924236                   0.000000   \n",
       "\n",
       "       consommation_level_4_mean  counter_type_GAZ  district_62  district_63   \n",
       "28199                        0.0               0.0          0.0          1.0  \\\n",
       "18397                        0.0               1.0          1.0          0.0   \n",
       "47941                        0.0               0.0          1.0          0.0   \n",
       "36406                        0.0               0.0          0.0          0.0   \n",
       "33319                        0.0               0.0          0.0          1.0   \n",
       "\n",
       "       district_69  client_catg_12  ...  tarif_type_24  tarif_type_29   \n",
       "28199          0.0             0.0  ...            0.0            0.0  \\\n",
       "18397          0.0             0.0  ...            0.0            0.0   \n",
       "47941          0.0             0.0  ...            0.0            0.0   \n",
       "36406          1.0             0.0  ...            0.0            0.0   \n",
       "33319          0.0             0.0  ...            0.0            0.0   \n",
       "\n",
       "       tarif_type_30  tarif_type_40  tarif_type_45  counter_statue_1   \n",
       "28199            0.0            0.0            0.0               0.0  \\\n",
       "18397            0.0            1.0            0.0               1.0   \n",
       "47941            0.0            0.0            0.0               0.0   \n",
       "36406            0.0            0.0            0.0               0.0   \n",
       "33319            0.0            0.0            0.0               0.0   \n",
       "\n",
       "       counter_statue_2  counter_statue_3  counter_statue_4  counter_statue_5  \n",
       "28199               0.0               0.0               0.0               0.0  \n",
       "18397               0.0               0.0               0.0               0.0  \n",
       "47941               0.0               0.0               0.0               0.0  \n",
       "36406               0.0               0.0               0.0               0.0  \n",
       "33319               0.0               0.0               0.0               0.0  \n",
       "\n",
       "[5 rows x 51 columns]"
      ]
     },
     "execution_count": 67,
     "metadata": {},
     "output_type": "execute_result"
    }
   ],
   "source": [
    "# Display data frame\n",
    "X_train.head(5)"
   ]
  },
  {
   "cell_type": "markdown",
   "metadata": {},
   "source": [
    "### Scaling"
   ]
  },
  {
   "cell_type": "code",
   "execution_count": 68,
   "metadata": {},
   "outputs": [],
   "source": [
    "# Define the scaler\n",
    "st_scaler = StandardScaler()\n",
    "# List of columns that will be transformed\n",
    "col_list = ['transactions_count', 'consommation_level_1_mean', 'consommation_level_2_mean', 'consommation_level_3_mean', 'consommation_level_4_mean']"
   ]
  },
  {
   "cell_type": "code",
   "execution_count": 69,
   "metadata": {},
   "outputs": [],
   "source": [
    "# Scale numerical features\n",
    "X_train_scaled = st_scaler.fit_transform(X_train[col_list])\n",
    "X_test_scaled = st_scaler.transform(X_test[col_list])"
   ]
  },
  {
   "cell_type": "code",
   "execution_count": 70,
   "metadata": {},
   "outputs": [],
   "source": [
    "# Convert back to DataFrames with same column names\n",
    "X_train_scaled_df = pd.DataFrame(X_train_scaled, columns=col_list, index=X_train.index)\n",
    "X_test_scaled_df = pd.DataFrame(X_test_scaled, columns=col_list, index=X_test.index)"
   ]
  },
  {
   "cell_type": "code",
   "execution_count": 71,
   "metadata": {},
   "outputs": [],
   "source": [
    "# combine scaled columns with the rest of the dataset\n",
    "X_train_preprocessed = pd.concat([X_train.drop(columns=col_list),X_train_scaled_df], axis=1)\n",
    "X_test_preprocessed = pd.concat([X_test.drop(columns=col_list), X_test_scaled_df], axis=1)"
   ]
  },
  {
   "cell_type": "code",
   "execution_count": 72,
   "metadata": {},
   "outputs": [
    {
     "data": {
      "text/html": [
       "<div>\n",
       "<style scoped>\n",
       "    .dataframe tbody tr th:only-of-type {\n",
       "        vertical-align: middle;\n",
       "    }\n",
       "\n",
       "    .dataframe tbody tr th {\n",
       "        vertical-align: top;\n",
       "    }\n",
       "\n",
       "    .dataframe thead th {\n",
       "        text-align: right;\n",
       "    }\n",
       "</style>\n",
       "<table border=\"1\" class=\"dataframe\">\n",
       "  <thead>\n",
       "    <tr style=\"text-align: right;\">\n",
       "      <th></th>\n",
       "      <th>counter_type_GAZ</th>\n",
       "      <th>district_62</th>\n",
       "      <th>district_63</th>\n",
       "      <th>district_69</th>\n",
       "      <th>client_catg_12</th>\n",
       "      <th>client_catg_51</th>\n",
       "      <th>region_103</th>\n",
       "      <th>region_104</th>\n",
       "      <th>region_105</th>\n",
       "      <th>region_106</th>\n",
       "      <th>...</th>\n",
       "      <th>counter_statue_1</th>\n",
       "      <th>counter_statue_2</th>\n",
       "      <th>counter_statue_3</th>\n",
       "      <th>counter_statue_4</th>\n",
       "      <th>counter_statue_5</th>\n",
       "      <th>transactions_count</th>\n",
       "      <th>consommation_level_1_mean</th>\n",
       "      <th>consommation_level_2_mean</th>\n",
       "      <th>consommation_level_3_mean</th>\n",
       "      <th>consommation_level_4_mean</th>\n",
       "    </tr>\n",
       "  </thead>\n",
       "  <tbody>\n",
       "    <tr>\n",
       "      <th>28199</th>\n",
       "      <td>0.0</td>\n",
       "      <td>0.0</td>\n",
       "      <td>1.0</td>\n",
       "      <td>0.0</td>\n",
       "      <td>0.0</td>\n",
       "      <td>0.0</td>\n",
       "      <td>0.0</td>\n",
       "      <td>0.0</td>\n",
       "      <td>0.0</td>\n",
       "      <td>0.0</td>\n",
       "      <td>...</td>\n",
       "      <td>0.0</td>\n",
       "      <td>0.0</td>\n",
       "      <td>0.0</td>\n",
       "      <td>0.0</td>\n",
       "      <td>0.0</td>\n",
       "      <td>-1.010300</td>\n",
       "      <td>-0.042906</td>\n",
       "      <td>-0.957644</td>\n",
       "      <td>-0.562626</td>\n",
       "      <td>-0.35013</td>\n",
       "    </tr>\n",
       "    <tr>\n",
       "      <th>18397</th>\n",
       "      <td>1.0</td>\n",
       "      <td>1.0</td>\n",
       "      <td>0.0</td>\n",
       "      <td>0.0</td>\n",
       "      <td>0.0</td>\n",
       "      <td>0.0</td>\n",
       "      <td>0.0</td>\n",
       "      <td>0.0</td>\n",
       "      <td>0.0</td>\n",
       "      <td>0.0</td>\n",
       "      <td>...</td>\n",
       "      <td>1.0</td>\n",
       "      <td>0.0</td>\n",
       "      <td>0.0</td>\n",
       "      <td>0.0</td>\n",
       "      <td>0.0</td>\n",
       "      <td>0.887561</td>\n",
       "      <td>0.054933</td>\n",
       "      <td>1.489075</td>\n",
       "      <td>-0.562626</td>\n",
       "      <td>-0.35013</td>\n",
       "    </tr>\n",
       "    <tr>\n",
       "      <th>47941</th>\n",
       "      <td>0.0</td>\n",
       "      <td>1.0</td>\n",
       "      <td>0.0</td>\n",
       "      <td>0.0</td>\n",
       "      <td>0.0</td>\n",
       "      <td>0.0</td>\n",
       "      <td>0.0</td>\n",
       "      <td>0.0</td>\n",
       "      <td>0.0</td>\n",
       "      <td>0.0</td>\n",
       "      <td>...</td>\n",
       "      <td>0.0</td>\n",
       "      <td>0.0</td>\n",
       "      <td>0.0</td>\n",
       "      <td>0.0</td>\n",
       "      <td>0.0</td>\n",
       "      <td>-2.350176</td>\n",
       "      <td>0.729543</td>\n",
       "      <td>-0.957644</td>\n",
       "      <td>-0.562626</td>\n",
       "      <td>-0.35013</td>\n",
       "    </tr>\n",
       "    <tr>\n",
       "      <th>36406</th>\n",
       "      <td>0.0</td>\n",
       "      <td>0.0</td>\n",
       "      <td>0.0</td>\n",
       "      <td>1.0</td>\n",
       "      <td>0.0</td>\n",
       "      <td>0.0</td>\n",
       "      <td>0.0</td>\n",
       "      <td>1.0</td>\n",
       "      <td>0.0</td>\n",
       "      <td>0.0</td>\n",
       "      <td>...</td>\n",
       "      <td>0.0</td>\n",
       "      <td>0.0</td>\n",
       "      <td>0.0</td>\n",
       "      <td>0.0</td>\n",
       "      <td>0.0</td>\n",
       "      <td>-0.340362</td>\n",
       "      <td>0.678031</td>\n",
       "      <td>1.065151</td>\n",
       "      <td>1.370462</td>\n",
       "      <td>-0.35013</td>\n",
       "    </tr>\n",
       "    <tr>\n",
       "      <th>33319</th>\n",
       "      <td>0.0</td>\n",
       "      <td>0.0</td>\n",
       "      <td>1.0</td>\n",
       "      <td>0.0</td>\n",
       "      <td>0.0</td>\n",
       "      <td>0.0</td>\n",
       "      <td>0.0</td>\n",
       "      <td>0.0</td>\n",
       "      <td>0.0</td>\n",
       "      <td>0.0</td>\n",
       "      <td>...</td>\n",
       "      <td>0.0</td>\n",
       "      <td>0.0</td>\n",
       "      <td>0.0</td>\n",
       "      <td>0.0</td>\n",
       "      <td>0.0</td>\n",
       "      <td>0.780060</td>\n",
       "      <td>0.313085</td>\n",
       "      <td>0.316668</td>\n",
       "      <td>-0.562626</td>\n",
       "      <td>-0.35013</td>\n",
       "    </tr>\n",
       "  </tbody>\n",
       "</table>\n",
       "<p>5 rows × 51 columns</p>\n",
       "</div>"
      ],
      "text/plain": [
       "       counter_type_GAZ  district_62  district_63  district_69   \n",
       "28199               0.0          0.0          1.0          0.0  \\\n",
       "18397               1.0          1.0          0.0          0.0   \n",
       "47941               0.0          1.0          0.0          0.0   \n",
       "36406               0.0          0.0          0.0          1.0   \n",
       "33319               0.0          0.0          1.0          0.0   \n",
       "\n",
       "       client_catg_12  client_catg_51  region_103  region_104  region_105   \n",
       "28199             0.0             0.0         0.0         0.0         0.0  \\\n",
       "18397             0.0             0.0         0.0         0.0         0.0   \n",
       "47941             0.0             0.0         0.0         0.0         0.0   \n",
       "36406             0.0             0.0         0.0         1.0         0.0   \n",
       "33319             0.0             0.0         0.0         0.0         0.0   \n",
       "\n",
       "       region_106  ...  counter_statue_1  counter_statue_2  counter_statue_3   \n",
       "28199         0.0  ...               0.0               0.0               0.0  \\\n",
       "18397         0.0  ...               1.0               0.0               0.0   \n",
       "47941         0.0  ...               0.0               0.0               0.0   \n",
       "36406         0.0  ...               0.0               0.0               0.0   \n",
       "33319         0.0  ...               0.0               0.0               0.0   \n",
       "\n",
       "       counter_statue_4  counter_statue_5  transactions_count   \n",
       "28199               0.0               0.0           -1.010300  \\\n",
       "18397               0.0               0.0            0.887561   \n",
       "47941               0.0               0.0           -2.350176   \n",
       "36406               0.0               0.0           -0.340362   \n",
       "33319               0.0               0.0            0.780060   \n",
       "\n",
       "       consommation_level_1_mean  consommation_level_2_mean   \n",
       "28199                  -0.042906                  -0.957644  \\\n",
       "18397                   0.054933                   1.489075   \n",
       "47941                   0.729543                  -0.957644   \n",
       "36406                   0.678031                   1.065151   \n",
       "33319                   0.313085                   0.316668   \n",
       "\n",
       "       consommation_level_3_mean  consommation_level_4_mean  \n",
       "28199                  -0.562626                   -0.35013  \n",
       "18397                  -0.562626                   -0.35013  \n",
       "47941                  -0.562626                   -0.35013  \n",
       "36406                   1.370462                   -0.35013  \n",
       "33319                  -0.562626                   -0.35013  \n",
       "\n",
       "[5 rows x 51 columns]"
      ]
     },
     "execution_count": 72,
     "metadata": {},
     "output_type": "execute_result"
    }
   ],
   "source": [
    "# Check the scaling\n",
    "X_train_preprocessed.head(5)"
   ]
  },
  {
   "cell_type": "markdown",
   "metadata": {},
   "source": [
    "### Oversampling with SMOTE"
   ]
  },
  {
   "cell_type": "code",
   "execution_count": 73,
   "metadata": {},
   "outputs": [],
   "source": [
    "# Oversample the target to balance fraud and no fraud\n",
    "smote = SMOTE(random_state=12)\n",
    "X_train_resampled, y_train_resampled = smote.fit_resample(X_train_preprocessed, y_train)\n"
   ]
  },
  {
   "cell_type": "code",
   "execution_count": 74,
   "metadata": {},
   "outputs": [
    {
     "data": {
      "image/png": "[encoded data removed]",
      "text/plain": [
       "<Figure size 640x480 with 1 Axes>"
      ]
     },
     "metadata": {},
     "output_type": "display_data"
    }
   ],
   "source": [
    "# Display target distribution\n",
    "sns.countplot(x=y_train_resampled);"
   ]
  },
  {
   "cell_type": "markdown",
   "metadata": {},
   "source": [
    "### Now it’s time to train our models:\n",
    "\n",
    "* Logistic Regression\n",
    "* Random Forest\n",
    "* K-Nearest Neighbors (KNN)\n",
    "\n",
    "Before fitting them to the data, we’ll perform hyperparameter tuning using Grid Search.\n",
    "This process will help us identify the best combination of hyperparameters for each model, ensuring optimal performance.\n"
   ]
  },
  {
   "cell_type": "code",
   "execution_count": 75,
   "metadata": {},
   "outputs": [
    {
     "name": "stdout",
     "output_type": "stream",
     "text": [
      "\n",
      "Running Grid Search for Logistic Regression...\n",
      "Fitting 5 folds for each of 8 candidates, totalling 40 fits\n",
      "Best params for Logistic Regression: {'C': 0.01, 'penalty': 'l2', 'solver': 'liblinear'}\n",
      "Best CV recall: 0.7289\n",
      "\n",
      "Running Grid Search for Random Forest...\n",
      "Fitting 5 folds for each of 36 candidates, totalling 180 fits\n",
      "Best params for Random Forest: {'max_depth': None, 'min_samples_split': 2, 'n_estimators': 300}\n",
      "Best CV recall: 0.9316\n",
      "\n",
      "Running Grid Search for KNN...\n",
      "Fitting 5 folds for each of 36 candidates, totalling 180 fits\n",
      "Best params for KNN: {'metric': 'euclidean', 'n_neighbors': 10, 'weights': 'distance'}\n",
      "Best CV recall: 0.9532\n"
     ]
    }
   ],
   "source": [
    "# --- Define models ---\n",
    "models = {\n",
    "    'Logistic Regression': LogisticRegression(random_state=SEED, max_iter=1000),\n",
    "    'Random Forest': RandomForestClassifier(random_state=SEED),\n",
    "    'KNN': KNeighborsClassifier()\n",
    "}\n",
    "\n",
    "# --- Define parameter grids ---\n",
    "param_grids = {\n",
    "    'Logistic Regression': {\n",
    "        'C': [0.01, 0.1, 1, 10],\n",
    "        'penalty': ['l2'],\n",
    "        'solver': ['lbfgs', 'liblinear']\n",
    "    },\n",
    "    'Random Forest': {\n",
    "        'n_estimators': [100, 200, 300],\n",
    "        'max_depth': [None, 10, 20],\n",
    "        'min_samples_split': [2, 5, 10, 15]\n",
    "    },\n",
    "    'KNN': {\n",
    "        'n_neighbors': [5, 10, 15, 20, 25, 30],\n",
    "        'weights': ['uniform', 'distance'],\n",
    "        'metric': ['euclidean', 'manhattan','minkowski']\n",
    "    }\n",
    "}\n",
    "\n",
    "# --- Run Grid Search for each model ---\n",
    "best_models = {}\n",
    "\n",
    "for name, model in models.items():\n",
    "    print(f\"\\nRunning Grid Search for {name}...\")\n",
    "    \n",
    "    grid = GridSearchCV(\n",
    "        estimator=model,\n",
    "        param_grid=param_grids[name],\n",
    "        scoring='recall',   # Focus on detecting frauds\n",
    "        cv=5,\n",
    "        n_jobs=-1,\n",
    "        verbose=1\n",
    "    )\n",
    "    \n",
    "    grid.fit(X_train_resampled, y_train_resampled)\n",
    "    best_models[name] = grid.best_estimator_\n",
    "    \n",
    "    print(f\"Best params for {name}: {grid.best_params_}\")\n",
    "    print(f\"Best CV recall: {grid.best_score_:.4f}\")"
   ]
  },
  {
   "cell_type": "markdown",
   "metadata": {},
   "source": [
    "Now we have the best hyperparameter per model, let's see how the work when passing the unseen data"
   ]
  },
  {
   "cell_type": "markdown",
   "metadata": {},
   "source": [
    "### Logistic Regresion"
   ]
  },
  {
   "cell_type": "markdown",
   "metadata": {},
   "source": [
    "#### Cross validation"
   ]
  },
  {
   "cell_type": "code",
   "execution_count": 141,
   "metadata": {},
   "outputs": [
    {
     "name": "stdout",
     "output_type": "stream",
     "text": [
      "Average cross validation score: 0.729\n"
     ]
    }
   ],
   "source": [
    "# Defines logistic regresion\n",
    "lr = LogisticRegression(C= 0.01, penalty= 'l2', solver= 'liblinear', max_iter= 1000, class_weight= 'balanced')\n",
    "\n",
    "# Define cross validation\n",
    "cros_val_lr = cross_val_score(lr, X_train_resampled, y_train_resampled, cv = 5, scoring = 'recall', n_jobs = -1)\n",
    "\n",
    "# Run cross validation within the training data\n",
    "print(f'Average cross validation score: {round(cros_val_lr.mean(),3)}')"
   ]
  },
  {
   "cell_type": "markdown",
   "metadata": {},
   "source": [
    "#### Threshold tuning"
   ]
  },
  {
   "cell_type": "code",
   "execution_count": 153,
   "metadata": {},
   "outputs": [],
   "source": [
    "y_proba = lr.predict_proba(X_test_preprocessed)[:, 1]"
   ]
  },
  {
   "cell_type": "code",
   "execution_count": null,
   "metadata": {},
   "outputs": [
    {
     "data": {
      "image/png": "[encoded data removed]",
      "text/plain": [
       "<Figure size 1300x500 with 1 Axes>"
      ]
     },
     "metadata": {},
     "output_type": "display_data"
    }
   ],
   "source": [
    "# Create a plot\n",
    "precision, recall, thresholds = precision_recall_curve(y_test, y_proba)\n",
    "fig, ax = plt.subplots(figsize = (13, 5))\n",
    "plt.plot(thresholds, precision[:-1], label='Precision')\n",
    "plt.plot(thresholds, recall[:-1], label='Recall')\n",
    "plt.xlabel('Decision Threshold')\n",
    "plt.ylabel('Score')\n",
    "plt.legend()\n",
    "plt.title('Precision and Recall vs. Decision Threshold')\n",
    "plt.show()\n"
   ]
  },
  {
   "cell_type": "code",
   "execution_count": null,
   "metadata": {},
   "outputs": [
    {
     "name": "stdout",
     "output_type": "stream",
     "text": [
      "Threshold with recall ≥ 0.8: 0.448\n"
     ]
    }
   ],
   "source": [
    "# Define the threshold to achieve a recall of 0.8\n",
    "desired_recall = 0.8\n",
    "threshold_recall = thresholds[np.argmax(recall[:-1] < desired_recall)]\n",
    "print(\"Threshold with recall ≥ 0.8:\", round(threshold_recall, 3))\n"
   ]
  },
  {
   "cell_type": "markdown",
   "metadata": {},
   "source": [
    "Our primary objective is to detect as many fraud cases as possible. As shown in the precision–recall curve, lowering the decision threshold to around 0.448 would allow us to achieve a recall score of approximately 0.8, with only a limited decrease in precision due to its relatively flat trend in that region.\n",
    "\n",
    "However, since the business cost associated with false positives is not clearly defined, we will keep the default decision threshold at 0.5 for now. This maintains a balanced trade-off between precision and recall until more information is available about the impact of false alarms."
   ]
  },
  {
   "cell_type": "markdown",
   "metadata": {},
   "source": [
    "#### Model fitting"
   ]
  },
  {
   "cell_type": "markdown",
   "metadata": {},
   "source": [
    "Applying the model over the test data"
   ]
  },
  {
   "cell_type": "code",
   "execution_count": 142,
   "metadata": {},
   "outputs": [
    {
     "data": {
      "text/html": [
       "<style>#sk-container-id-9 {color: black;background-color: white;}#sk-container-id-9 pre{padding: 0;}#sk-container-id-9 div.sk-toggleable {background-color: white;}#sk-container-id-9 label.sk-toggleable__label {cursor: pointer;display: block;width: 100%;margin-bottom: 0;padding: 0.3em;box-sizing: border-box;text-align: center;}#sk-container-id-9 label.sk-toggleable__label-arrow:before {content: \"▸\";float: left;margin-right: 0.25em;color: #696969;}#sk-container-id-9 label.sk-toggleable__label-arrow:hover:before {color: black;}#sk-container-id-9 div.sk-estimator:hover label.sk-toggleable__label-arrow:before {color: black;}#sk-container-id-9 div.sk-toggleable__content {max-height: 0;max-width: 0;overflow: hidden;text-align: left;background-color: #f0f8ff;}#sk-container-id-9 div.sk-toggleable__content pre {margin: 0.2em;color: black;border-radius: 0.25em;background-color: #f0f8ff;}#sk-container-id-9 input.sk-toggleable__control:checked~div.sk-toggleable__content {max-height: 200px;max-width: 100%;overflow: auto;}#sk-container-id-9 input.sk-toggleable__control:checked~label.sk-toggleable__label-arrow:before {content: \"▾\";}#sk-container-id-9 div.sk-estimator input.sk-toggleable__control:checked~label.sk-toggleable__label {background-color: #d4ebff;}#sk-container-id-9 div.sk-label input.sk-toggleable__control:checked~label.sk-toggleable__label {background-color: #d4ebff;}#sk-container-id-9 input.sk-hidden--visually {border: 0;clip: rect(1px 1px 1px 1px);clip: rect(1px, 1px, 1px, 1px);height: 1px;margin: -1px;overflow: hidden;padding: 0;position: absolute;width: 1px;}#sk-container-id-9 div.sk-estimator {font-family: monospace;background-color: #f0f8ff;border: 1px dotted black;border-radius: 0.25em;box-sizing: border-box;margin-bottom: 0.5em;}#sk-container-id-9 div.sk-estimator:hover {background-color: #d4ebff;}#sk-container-id-9 div.sk-parallel-item::after {content: \"\";width: 100%;border-bottom: 1px solid gray;flex-grow: 1;}#sk-container-id-9 div.sk-label:hover label.sk-toggleable__label {background-color: #d4ebff;}#sk-container-id-9 div.sk-serial::before {content: \"\";position: absolute;border-left: 1px solid gray;box-sizing: border-box;top: 0;bottom: 0;left: 50%;z-index: 0;}#sk-container-id-9 div.sk-serial {display: flex;flex-direction: column;align-items: center;background-color: white;padding-right: 0.2em;padding-left: 0.2em;position: relative;}#sk-container-id-9 div.sk-item {position: relative;z-index: 1;}#sk-container-id-9 div.sk-parallel {display: flex;align-items: stretch;justify-content: center;background-color: white;position: relative;}#sk-container-id-9 div.sk-item::before, #sk-container-id-9 div.sk-parallel-item::before {content: \"\";position: absolute;border-left: 1px solid gray;box-sizing: border-box;top: 0;bottom: 0;left: 50%;z-index: -1;}#sk-container-id-9 div.sk-parallel-item {display: flex;flex-direction: column;z-index: 1;position: relative;background-color: white;}#sk-container-id-9 div.sk-parallel-item:first-child::after {align-self: flex-end;width: 50%;}#sk-container-id-9 div.sk-parallel-item:last-child::after {align-self: flex-start;width: 50%;}#sk-container-id-9 div.sk-parallel-item:only-child::after {width: 0;}#sk-container-id-9 div.sk-dashed-wrapped {border: 1px dashed gray;margin: 0 0.4em 0.5em 0.4em;box-sizing: border-box;padding-bottom: 0.4em;background-color: white;}#sk-container-id-9 div.sk-label label {font-family: monospace;font-weight: bold;display: inline-block;line-height: 1.2em;}#sk-container-id-9 div.sk-label-container {text-align: center;}#sk-container-id-9 div.sk-container {/* jupyter's `normalize.less` sets `[hidden] { display: none; }` but bootstrap.min.css set `[hidden] { display: none !important; }` so we also need the `!important` here to be able to override the default hidden behavior on the sphinx rendered scikit-learn.org. See: https://github.com/scikit-learn/scikit-learn/issues/21755 */display: inline-block !important;position: relative;}#sk-container-id-9 div.sk-text-repr-fallback {display: none;}</style><div id=\"sk-container-id-9\" class=\"sk-top-container\"><div class=\"sk-text-repr-fallback\"><pre>LogisticRegression(C=0.01, class_weight=&#x27;balanced&#x27;, max_iter=1000,\n",
       "                   solver=&#x27;liblinear&#x27;)</pre><b>In a Jupyter environment, please rerun this cell to show the HTML representation or trust the notebook. <br />On GitHub, the HTML representation is unable to render, please try loading this page with nbviewer.org.</b></div><div class=\"sk-container\" hidden><div class=\"sk-item\"><div class=\"sk-estimator sk-toggleable\"><input class=\"sk-toggleable__control sk-hidden--visually\" id=\"sk-estimator-id-9\" type=\"checkbox\" checked><label for=\"sk-estimator-id-9\" class=\"sk-toggleable__label sk-toggleable__label-arrow\">LogisticRegression</label><div class=\"sk-toggleable__content\"><pre>LogisticRegression(C=0.01, class_weight=&#x27;balanced&#x27;, max_iter=1000,\n",
       "                   solver=&#x27;liblinear&#x27;)</pre></div></div></div></div></div>"
      ],
      "text/plain": [
       "LogisticRegression(C=0.01, class_weight='balanced', max_iter=1000,\n",
       "                   solver='liblinear')"
      ]
     },
     "execution_count": 142,
     "metadata": {},
     "output_type": "execute_result"
    }
   ],
   "source": [
    "# Fit model with training data\n",
    "lr.fit(X_train_resampled, y_train_resampled)"
   ]
  },
  {
   "cell_type": "code",
   "execution_count": 143,
   "metadata": {},
   "outputs": [],
   "source": [
    "# Define y_pred\n",
    "y_pred_lr = lr.predict(X_test_preprocessed)"
   ]
  },
  {
   "cell_type": "code",
   "execution_count": 144,
   "metadata": {},
   "outputs": [
    {
     "name": "stdout",
     "output_type": "stream",
     "text": [
      "Accuracy score: 0.633\n",
      "Recall score: 0.72\n",
      "Precision score: 0.103\n"
     ]
    },
    {
     "data": {
      "image/png": "[encoded data removed]",
      "text/plain": [
       "<Figure size 640x480 with 2 Axes>"
      ]
     },
     "metadata": {},
     "output_type": "display_data"
    }
   ],
   "source": [
    "# Define evaluation metrics\n",
    "\n",
    "print(f'Accuracy score: {round(accuracy_score(y_test, y_pred_lr),3)}')\n",
    "print(f'Recall score: {round(recall_score(y_test, y_pred_lr),3)}')\n",
    "print(f'Precision score: {round(precision_score(y_test, y_pred_lr),3)}')\n",
    "\n",
    "# Define confusion matrix\n",
    "sns.heatmap(confusion_matrix(y_test, y_pred_lr), annot = True, fmt= 'd');"
   ]
  },
  {
   "cell_type": "markdown",
   "metadata": {},
   "source": [
    "Applying the model over the train data before resampling with SMOTE"
   ]
  },
  {
   "cell_type": "code",
   "execution_count": 145,
   "metadata": {},
   "outputs": [],
   "source": [
    "# Define y_pred\n",
    "y_pred_lr_train = lr.predict(X_train_preprocessed)"
   ]
  },
  {
   "cell_type": "code",
   "execution_count": 147,
   "metadata": {},
   "outputs": [
    {
     "name": "stdout",
     "output_type": "stream",
     "text": [
      "Accuracy score: 0.627\n",
      "Recall score: 0.716\n",
      "Precision score: 0.101\n"
     ]
    },
    {
     "data": {
      "image/png": "[encoded data removed]",
      "text/plain": [
       "<Figure size 640x480 with 2 Axes>"
      ]
     },
     "metadata": {},
     "output_type": "display_data"
    }
   ],
   "source": [
    "# Define evaluation metrics\n",
    "\n",
    "print(f'Accuracy score: {round(accuracy_score(y_train, y_pred_lr_train),3)}')\n",
    "print(f'Recall score: {round(recall_score(y_train, y_pred_lr_train),3)}')\n",
    "print(f'Precision score: {round(precision_score(y_train, y_pred_lr_train),3)}')\n",
    "\n",
    "# Define confusion matrix\n",
    "sns.heatmap(confusion_matrix(y_train, y_pred_lr_train), annot = True, fmt= 'd');"
   ]
  },
  {
   "cell_type": "markdown",
   "metadata": {},
   "source": [
    "### Random Forest"
   ]
  },
  {
   "cell_type": "markdown",
   "metadata": {},
   "source": [
    "#### Cross validation"
   ]
  },
  {
   "cell_type": "code",
   "execution_count": 129,
   "metadata": {},
   "outputs": [
    {
     "name": "stdout",
     "output_type": "stream",
     "text": [
      "Average cross validation score: 0.932\n"
     ]
    }
   ],
   "source": [
    "# Define Random Forest\n",
    "rf = RandomForestClassifier(max_depth = None, min_samples_split = 2, n_estimators = 300, class_weight= 'balanced', random_state= SEED)\n",
    "\n",
    "# Define cross validation\n",
    "cros_val_rf = cross_val_score(rf, X_train_resampled, y_train_resampled, cv = 5, scoring = 'recall', n_jobs = -1)\n",
    "\n",
    "# Average cross validation score\n",
    "print(f'Average cross validation score: {round(cros_val_rf.mean(),3)}')"
   ]
  },
  {
   "cell_type": "markdown",
   "metadata": {},
   "source": [
    "#### Model fitting"
   ]
  },
  {
   "cell_type": "markdown",
   "metadata": {},
   "source": [
    "Applying the model over the test data"
   ]
  },
  {
   "cell_type": "code",
   "execution_count": 131,
   "metadata": {},
   "outputs": [
    {
     "data": {
      "text/html": [
       "<style>#sk-container-id-8 {color: black;background-color: white;}#sk-container-id-8 pre{padding: 0;}#sk-container-id-8 div.sk-toggleable {background-color: white;}#sk-container-id-8 label.sk-toggleable__label {cursor: pointer;display: block;width: 100%;margin-bottom: 0;padding: 0.3em;box-sizing: border-box;text-align: center;}#sk-container-id-8 label.sk-toggleable__label-arrow:before {content: \"▸\";float: left;margin-right: 0.25em;color: #696969;}#sk-container-id-8 label.sk-toggleable__label-arrow:hover:before {color: black;}#sk-container-id-8 div.sk-estimator:hover label.sk-toggleable__label-arrow:before {color: black;}#sk-container-id-8 div.sk-toggleable__content {max-height: 0;max-width: 0;overflow: hidden;text-align: left;background-color: #f0f8ff;}#sk-container-id-8 div.sk-toggleable__content pre {margin: 0.2em;color: black;border-radius: 0.25em;background-color: #f0f8ff;}#sk-container-id-8 input.sk-toggleable__control:checked~div.sk-toggleable__content {max-height: 200px;max-width: 100%;overflow: auto;}#sk-container-id-8 input.sk-toggleable__control:checked~label.sk-toggleable__label-arrow:before {content: \"▾\";}#sk-container-id-8 div.sk-estimator input.sk-toggleable__control:checked~label.sk-toggleable__label {background-color: #d4ebff;}#sk-container-id-8 div.sk-label input.sk-toggleable__control:checked~label.sk-toggleable__label {background-color: #d4ebff;}#sk-container-id-8 input.sk-hidden--visually {border: 0;clip: rect(1px 1px 1px 1px);clip: rect(1px, 1px, 1px, 1px);height: 1px;margin: -1px;overflow: hidden;padding: 0;position: absolute;width: 1px;}#sk-container-id-8 div.sk-estimator {font-family: monospace;background-color: #f0f8ff;border: 1px dotted black;border-radius: 0.25em;box-sizing: border-box;margin-bottom: 0.5em;}#sk-container-id-8 div.sk-estimator:hover {background-color: #d4ebff;}#sk-container-id-8 div.sk-parallel-item::after {content: \"\";width: 100%;border-bottom: 1px solid gray;flex-grow: 1;}#sk-container-id-8 div.sk-label:hover label.sk-toggleable__label {background-color: #d4ebff;}#sk-container-id-8 div.sk-serial::before {content: \"\";position: absolute;border-left: 1px solid gray;box-sizing: border-box;top: 0;bottom: 0;left: 50%;z-index: 0;}#sk-container-id-8 div.sk-serial {display: flex;flex-direction: column;align-items: center;background-color: white;padding-right: 0.2em;padding-left: 0.2em;position: relative;}#sk-container-id-8 div.sk-item {position: relative;z-index: 1;}#sk-container-id-8 div.sk-parallel {display: flex;align-items: stretch;justify-content: center;background-color: white;position: relative;}#sk-container-id-8 div.sk-item::before, #sk-container-id-8 div.sk-parallel-item::before {content: \"\";position: absolute;border-left: 1px solid gray;box-sizing: border-box;top: 0;bottom: 0;left: 50%;z-index: -1;}#sk-container-id-8 div.sk-parallel-item {display: flex;flex-direction: column;z-index: 1;position: relative;background-color: white;}#sk-container-id-8 div.sk-parallel-item:first-child::after {align-self: flex-end;width: 50%;}#sk-container-id-8 div.sk-parallel-item:last-child::after {align-self: flex-start;width: 50%;}#sk-container-id-8 div.sk-parallel-item:only-child::after {width: 0;}#sk-container-id-8 div.sk-dashed-wrapped {border: 1px dashed gray;margin: 0 0.4em 0.5em 0.4em;box-sizing: border-box;padding-bottom: 0.4em;background-color: white;}#sk-container-id-8 div.sk-label label {font-family: monospace;font-weight: bold;display: inline-block;line-height: 1.2em;}#sk-container-id-8 div.sk-label-container {text-align: center;}#sk-container-id-8 div.sk-container {/* jupyter's `normalize.less` sets `[hidden] { display: none; }` but bootstrap.min.css set `[hidden] { display: none !important; }` so we also need the `!important` here to be able to override the default hidden behavior on the sphinx rendered scikit-learn.org. See: https://github.com/scikit-learn/scikit-learn/issues/21755 */display: inline-block !important;position: relative;}#sk-container-id-8 div.sk-text-repr-fallback {display: none;}</style><div id=\"sk-container-id-8\" class=\"sk-top-container\"><div class=\"sk-text-repr-fallback\"><pre>RandomForestClassifier(class_weight=&#x27;balanced&#x27;, n_estimators=300,\n",
       "                       random_state=12)</pre><b>In a Jupyter environment, please rerun this cell to show the HTML representation or trust the notebook. <br />On GitHub, the HTML representation is unable to render, please try loading this page with nbviewer.org.</b></div><div class=\"sk-container\" hidden><div class=\"sk-item\"><div class=\"sk-estimator sk-toggleable\"><input class=\"sk-toggleable__control sk-hidden--visually\" id=\"sk-estimator-id-8\" type=\"checkbox\" checked><label for=\"sk-estimator-id-8\" class=\"sk-toggleable__label sk-toggleable__label-arrow\">RandomForestClassifier</label><div class=\"sk-toggleable__content\"><pre>RandomForestClassifier(class_weight=&#x27;balanced&#x27;, n_estimators=300,\n",
       "                       random_state=12)</pre></div></div></div></div></div>"
      ],
      "text/plain": [
       "RandomForestClassifier(class_weight='balanced', n_estimators=300,\n",
       "                       random_state=12)"
      ]
     },
     "execution_count": 131,
     "metadata": {},
     "output_type": "execute_result"
    }
   ],
   "source": [
    "rf.fit(X_train_resampled,y_train_resampled)"
   ]
  },
  {
   "cell_type": "code",
   "execution_count": 137,
   "metadata": {},
   "outputs": [],
   "source": [
    "# Defines y_pred\n",
    "y_pred_rf = rf.predict(X_test_preprocessed)"
   ]
  },
  {
   "cell_type": "code",
   "execution_count": 138,
   "metadata": {},
   "outputs": [
    {
     "name": "stdout",
     "output_type": "stream",
     "text": [
      "Accuracy score: 0.86\n",
      "Recall score: 0.248\n",
      "Precision score: 0.124\n"
     ]
    },
    {
     "data": {
      "image/png": "[encoded data removed]",
      "text/plain": [
       "<Figure size 640x480 with 2 Axes>"
      ]
     },
     "metadata": {},
     "output_type": "display_data"
    }
   ],
   "source": [
    "# Define evaluation metrics\n",
    "\n",
    "print(f'Accuracy score: {round(accuracy_score(y_test, y_pred_rf),3)}')\n",
    "print(f'Recall score: {round(recall_score(y_test, y_pred_rf),3)}')\n",
    "print(f'Precision score: {round(precision_score(y_test, y_pred_rf),3)}')\n",
    "\n",
    "# Define confusion matrix\n",
    "sns.heatmap(confusion_matrix(y_test, y_pred_rf), annot = True, fmt= 'd');"
   ]
  },
  {
   "cell_type": "markdown",
   "metadata": {},
   "source": [
    "Applying the model over the train data before resampling with SMOTE"
   ]
  },
  {
   "cell_type": "code",
   "execution_count": 162,
   "metadata": {},
   "outputs": [],
   "source": [
    "# Define y_pred\n",
    "y_pred_rf_train = rf.predict(X_train_preprocessed)"
   ]
  },
  {
   "cell_type": "code",
   "execution_count": 163,
   "metadata": {},
   "outputs": [
    {
     "name": "stdout",
     "output_type": "stream",
     "text": [
      "Accuracy score: 1.0\n",
      "Recall score: 0.996\n",
      "Precision score: 1.0\n"
     ]
    },
    {
     "data": {
      "image/png": "[encoded data removed]",
      "text/plain": [
       "<Figure size 640x480 with 2 Axes>"
      ]
     },
     "metadata": {},
     "output_type": "display_data"
    }
   ],
   "source": [
    "# Define evaluation metrics\n",
    "\n",
    "print(f'Accuracy score: {round(accuracy_score(y_train, y_pred_rf_train),3)}')\n",
    "print(f'Recall score: {round(recall_score(y_train, y_pred_rf_train),3)}')\n",
    "print(f'Precision score: {round(precision_score(y_train, y_pred_rf_train),3)}')\n",
    "\n",
    "# Define confusion matrix\n",
    "sns.heatmap(confusion_matrix(y_train, y_pred_rf_train), annot = True, fmt= 'd');"
   ]
  },
  {
   "cell_type": "markdown",
   "metadata": {},
   "source": [
    "Tune decision threshold to improve recall"
   ]
  },
  {
   "cell_type": "code",
   "execution_count": 140,
   "metadata": {},
   "outputs": [
    {
     "name": "stdout",
     "output_type": "stream",
     "text": [
      "🔍 Threshold tuning results:\n",
      "    threshold    recall  precision        f1\n",
      "0       0.10  0.772687   0.086031  0.154824\n",
      "1       0.15  0.682379   0.091311  0.161069\n",
      "2       0.20  0.613216   0.097973  0.168953\n",
      "3       0.25  0.526872   0.100741  0.169142\n",
      "4       0.30  0.462996   0.106560  0.173247\n",
      "5       0.35  0.406167   0.112384  0.176055\n",
      "6       0.40  0.350220   0.116569  0.174917\n",
      "7       0.45  0.296916   0.119695  0.170611\n",
      "8       0.50  0.248458   0.124311  0.165712\n",
      "9       0.55  0.203965   0.127654  0.157029\n",
      "✅ Best threshold based on F1: 0.3500000000000001\n",
      "\n",
      "📊 Final Model Performance:\n",
      "Accuracy:  0.788\n",
      "Recall:    0.406\n",
      "Precision: 0.112\n",
      "F1 Score:  0.176\n",
      "\n",
      "Classification Report:\n",
      "               precision    recall  f1-score   support\n",
      "\n",
      "           0       0.96      0.81      0.88     38378\n",
      "           1       0.11      0.41      0.18      2270\n",
      "\n",
      "    accuracy                           0.79     40648\n",
      "   macro avg       0.54      0.61      0.53     40648\n",
      "weighted avg       0.91      0.79      0.84     40648\n",
      "\n"
     ]
    },
    {
     "data": {
      "image/png": "[encoded data removed]",
      "text/plain": [
       "<Figure size 640x480 with 2 Axes>"
      ]
     },
     "metadata": {},
     "output_type": "display_data"
    }
   ],
   "source": [
    "y_proba_rf = rf.predict_proba(X_test_preprocessed)[:, 1]\n",
    " \n",
    "# Try multiple thresholds and pick the one that gives best recall-F1 tradeoff\n",
    "thresholds = np.arange(0.1, 0.6, 0.05)\n",
    "results = []\n",
    "\n",
    "for t in thresholds:\n",
    "    y_pred_t = (y_proba_rf > t).astype(int)\n",
    "    results.append({\n",
    "        'threshold': t,\n",
    "        'recall': recall_score(y_test, y_pred_t),\n",
    "        'precision': precision_score(y_test, y_pred_t),\n",
    "        'f1': f1_score(y_test, y_pred_t)\n",
    "    })\n",
    "\n",
    "results_df = pd.DataFrame(results)\n",
    "print(\"🔍 Threshold tuning results:\\n\", results_df)\n",
    "\n",
    "# Pick the best threshold (e.g., one with highest recall or best F1)\n",
    "best_thresh = results_df.loc[results_df['f1'].idxmax(), 'threshold']\n",
    "print(f\"✅ Best threshold based on F1: {best_thresh}\")\n",
    "\n",
    "# Predict again with the chosen threshold\n",
    "y_pred_rf_best = (y_proba_rf > best_thresh).astype(int)\n",
    "\n",
    "# Final evaluation\n",
    "print(\"\\n📊 Final Model Performance:\")\n",
    "print(f\"Accuracy:  {accuracy_score(y_test, y_pred_rf_best):.3f}\")\n",
    "print(f\"Recall:    {recall_score(y_test, y_pred_rf_best):.3f}\")\n",
    "print(f\"Precision: {precision_score(y_test, y_pred_rf_best):.3f}\")\n",
    "print(f\"F1 Score:  {f1_score(y_test, y_pred_rf_best):.3f}\")\n",
    "\n",
    "# Classification report\n",
    "print(\"\\nClassification Report:\\n\", classification_report(y_test, y_pred_rf_best))\n",
    "\n",
    "# Confusion Matrix\n",
    "sns.heatmap(confusion_matrix(y_test, y_pred_rf_best), annot=True, fmt='d');\n"
   ]
  },
  {
   "cell_type": "markdown",
   "metadata": {},
   "source": [
    "### KNN"
   ]
  },
  {
   "cell_type": "markdown",
   "metadata": {},
   "source": [
    "Cross validation"
   ]
  },
  {
   "cell_type": "code",
   "execution_count": 99,
   "metadata": {},
   "outputs": [
    {
     "name": "stdout",
     "output_type": "stream",
     "text": [
      "Neighbors = 5, Average score = 0.9498922953093185\n",
      "Neighbors = 10, Average score = 0.9532424763333733\n",
      "Neighbors = 15, Average score = 0.9526952785281282\n",
      "Neighbors = 20, Average score = 0.9514445344521854\n",
      "Neighbors = 25, Average score = 0.9498476175493458\n",
      "Neighbors = 30, Average score = 0.9476364868248401\n",
      "Neighbors = 35, Average score = 0.9451126791226532\n",
      "Neighbors = 40, Average score = 0.9431695632043118\n"
     ]
    }
   ],
   "source": [
    "neighbors = [5, 10, 15, 20, 25, 30, 35, 40]\n",
    "\n",
    "for n in neighbors:\n",
    "    knn = KNeighborsClassifier(metric= 'euclidean', n_neighbors= n, weights= 'distance')\n",
    "    scores = cross_val_score(knn, X = X_train_resampled, y = y_train_resampled, cv = 5,scoring = 'recall', n_jobs = -1)\n",
    "    print(f'Neighbors = {n}, Average score = {scores.mean()}')"
   ]
  },
  {
   "cell_type": "code",
   "execution_count": 100,
   "metadata": {},
   "outputs": [
    {
     "name": "stdout",
     "output_type": "stream",
     "text": [
      "Neighbors = 5, Average score = 0.03587524720722647\n",
      "Neighbors = 10, Average score = 0.016805459048229908\n",
      "Neighbors = 15, Average score = 0.007552692999804015\n",
      "Neighbors = 20, Average score = 0.004153972241523687\n",
      "Neighbors = 25, Average score = 0.0024546118623835233\n",
      "Neighbors = 30, Average score = 0.0015105029664867176\n",
      "Neighbors = 35, Average score = 0.0011327881411798244\n",
      "Neighbors = 40, Average score = 0.0009441088958968055\n"
     ]
    }
   ],
   "source": [
    "neighbors = [5, 10, 15, 20, 25, 30, 35, 40]\n",
    "\n",
    "for n in neighbors:\n",
    "    knn = KNeighborsClassifier(metric= 'euclidean', n_neighbors= n, weights= 'distance')\n",
    "    scores = cross_val_score(knn, X = X_train_preprocessed, y = y_train, cv = 5,scoring = 'recall', n_jobs = -1)\n",
    "    print(f'Neighbors = {n}, Average score = {scores.mean()}')"
   ]
  },
  {
   "cell_type": "markdown",
   "metadata": {},
   "source": [
    "The hyperparameters recommended by the grid search make the model have a very high variance due to overfitting as KNN memorizes the training data but generalizes poorly.\n",
    "This happens because KNN is non-parametric and sensitive to noise, feature scaling, and data imbalance.\n",
    "\n",
    "\n",
    "During cross-validation, we have trained and validated on the oversampled (SMOTE) dataset, where classes are well balanced.\n",
    "On that data, KNN sees many more fraud examples and learns their patterns easily, which is good for training but it's not realistic. That’s why recall is so high (overfitting)\n",
    "\n",
    "\n",
    "When we switch to the real test set, the data is still highly imbalanced. Now, KNN struggles to find enough positive neighbors and misses many frauds as many of those fraud points are far from any synthetic examples generated by SMOTE. (recall drops to 0.435).\n",
    "\n",
    "KNN is a “lazy learner” — it doesn’t learn decision boundaries, it just memorizes points and looks for the closest neighbors.\n",
    "\n",
    "* Synthetic points created by SMOTE don’t exactly match the real fraud distribution.\n",
    "* The model’s “memory” is biased toward these synthetic regions.\n",
    "* On the real test set, fraud points may not fall near those synthetic neighbors → misclassified as non-fraud."
   ]
  },
  {
   "cell_type": "code",
   "execution_count": 102,
   "metadata": {},
   "outputs": [
    {
     "name": "stdout",
     "output_type": "stream",
     "text": [
      "Scores using training data (oversampled data SMOTE)\n",
      "Accuracy score: 1.0\n",
      "Accuracy score: 1.0\n",
      "Accuracy score: 1.0\n",
      "\n",
      "Scores using test data\n",
      "Accuracy score: 0.75\n",
      "Recall score: 0.435\n",
      "Precision score: 0.1\n"
     ]
    },
    {
     "data": {
      "image/png": "[encoded data removed]",
      "text/plain": [
       "<Figure size 640x480 with 2 Axes>"
      ]
     },
     "metadata": {},
     "output_type": "display_data"
    }
   ],
   "source": [
    "knn = KNeighborsClassifier(metric= 'euclidean', n_neighbors= 10, weights= 'distance')\n",
    "knn.fit(X_train_resampled, y_train_resampled)\n",
    "y_pred_knn = knn.predict(X_test_preprocessed)\n",
    "\n",
    "print('Scores using training data (oversampled data SMOTE)')\n",
    "print(f'Accuracy score: {round(accuracy_score(y_train_resampled, knn.predict(X_train_resampled)),3)}')\n",
    "print(f'Accuracy score: {round(recall_score(y_train_resampled, knn.predict(X_train_resampled)),3)}')\n",
    "print(f'Accuracy score: {round(precision_score(y_train_resampled, knn.predict(X_train_resampled)),3)}')\n",
    "\n",
    "\n",
    "print('\\nScores using test data')\n",
    "print(f'Accuracy score: {round(accuracy_score(y_test, y_pred_knn),3)}')\n",
    "print(f'Recall score: {round(recall_score(y_test, y_pred_knn),3)}')\n",
    "print(f'Precision score: {round(precision_score(y_test, y_pred_knn),3)}')\n",
    "\n",
    "\n",
    "# Print confusion matrix\n",
    "sns.heatmap(confusion_matrix(y_test, y_pred_knn), annot=True, cmap='YlGn', fmt = 'd');"
   ]
  },
  {
   "cell_type": "markdown",
   "metadata": {},
   "source": [
    "Based on the plot when setting the number of neighbors too low the model overfits (< 10). On the other hand, if the number of neighbors increases more"
   ]
  },
  {
   "cell_type": "code",
   "execution_count": 96,
   "metadata": {},
   "outputs": [
    {
     "data": {
      "image/png": "[encoded data removed]",
      "text/plain": [
       "<Figure size 1000x500 with 1 Axes>"
      ]
     },
     "metadata": {},
     "output_type": "display_data"
    }
   ],
   "source": [
    "# Plot a graph recall score vs number of neighbors (k)\n",
    "\n",
    "k_values = range(1, 50)\n",
    "recalls = []\n",
    "\n",
    "for k in k_values:\n",
    "    knn = KNeighborsClassifier(n_neighbors=k, weights='distance')\n",
    "    knn.fit(X_train_resampled, y_train_resampled)\n",
    "    y_pred = knn.predict(X_test_preprocessed)\n",
    "    recalls.append(recall_score(y_test, y_pred))\n",
    "\n",
    "plt.figure(figsize=(10, 5))\n",
    "plt.plot(k_values, recalls, marker='o')\n",
    "plt.title(\"KNN: Recall Score vs. Number of Neighbors (k)\")\n",
    "plt.xlabel(\"Number of Neighbors (k)\")\n",
    "plt.ylabel(\"Recall Score\")\n",
    "plt.grid(True)\n",
    "plt.show()\n"
   ]
  }
 ],
 "metadata": {
  "kernelspec": {
   "display_name": ".venv",
   "language": "python",
   "name": "python3"
  },
  "language_info": {
   "codemirror_mode": {
    "name": "ipython",
    "version": 3
   },
   "file_extension": ".py",
   "mimetype": "text/x-python",
   "name": "python",
   "nbconvert_exporter": "python",
   "pygments_lexer": "ipython3",
   "version": "3.11.3"
  }
 },
 "nbformat": 4,
 "nbformat_minor": 4
}
